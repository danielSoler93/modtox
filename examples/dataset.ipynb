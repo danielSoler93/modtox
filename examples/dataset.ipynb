{
 "cells": [
  {
   "attachments": {},
   "cell_type": "markdown",
   "id": "3b1ef789",
   "metadata": {},
   "source": [
    "# `modtox.DataSet`\n",
    "\n",
    "A dataset is created from the returned dataframe obtained from `modtox.Collection.to_dataframe()`. Preparation of the dataset consists in preprocessing the data for feeding it into the ML model."
   ]
  },
  {
   "cell_type": "markdown",
   "id": "ebb9aa07",
   "metadata": {},
   "source": [
    "There is a wrapper function `modtox.DataSet.transform()` that performs all of the preprocessing. The parameters for this function are:\n",
    "- `outliers_threshold`: `int` if cluster members < outliers threshold, all members of said cluster are considered outliers.\n",
    "- `resampling_method`: 'oversampling' randomly duplicates molecules from the smaller set. 'undersampling' randomly removes molecules from the bigger set. 'none' does not remove/add any molecules.\n",
    "- `scaling_method`: 'normalize', 'standarize' or 'none'.\n",
    "\n",
    "\n",
    "\n",
    "Yields a dictionary with the following key: value pairs: \n",
    "- __X_train__: molecules from the train set with the outliers removed.\n",
    "- __y_train__: labels for X_train.\n",
    "- __X_test__: molecules from the test set, only scaled and imputed.\n",
    "- __y_test__: labels for X_test.\n",
    "- __X_test_reg__: molecules that a) were on the test set and not outliers or b) were removed from the test set by undersampling and are not outliers. \n",
    "- __y_test_reg__: labels for X_test_reg\n",
    "- __X_test_out__: molecules that were either: a) on the test set, b) on the train set but were removed because i) undersampling or ii) were outliers.\n",
    "- __y_test_out__: labels for X_test_reg"
   ]
  },
  {
   "cell_type": "code",
   "execution_count": 1,
   "id": "50b6893f",
   "metadata": {},
   "outputs": [],
   "source": [
    "import pandas as pd\n",
    "import os\n",
    "\n",
    "from modtox.modtox.ML.dataset import DataSet\n",
    "target = \"3pls\"\n",
    "\n",
    "csv = os.path.join(os.path.abspath(\"\"), \"data\", target, \"mordred_topo_morgan.csv\")\n",
    "df = pd.read_csv(csv, index_col=0)"
   ]
  },
  {
   "attachments": {
    "image-2.png": {
     "image/png": "[encoded data removed]"
    }
   },
   "cell_type": "markdown",
   "id": "b62e7c09",
   "metadata": {},
   "source": [
    "## Outlier removal performance evaluation\n",
    "To evaluate the removal of outliers from the train set, different threshold numbers will be set. The clustering parameters are evaluated in `collection.ipynb`. \n",
    "![image-2.png](attachment:image-2.png)\n",
    "> *Note*: other parameters are set to \"none\" to assess the individual effect of each parameter. "
   ]
  },
  {
   "cell_type": "markdown",
   "id": "76f0d9ed",
   "metadata": {},
   "source": [
    "So, four a outlier threshold of 1, 72 molecules will be considered outliers. Some of them will be removed from the train set (orphan molecules in the scheme), and the other ones will be in the test set. Finally they will all be recovered in the 'test_set_out' dataframe."
   ]
  },
  {
   "cell_type": "code",
   "execution_count": 2,
   "id": "f9509d42",
   "metadata": {},
   "outputs": [],
   "source": [
    "import warnings\n",
    "warnings.filterwarnings('ignore')  # Ignore pandas warnings in output (copy/slice)\n",
    "ds = DataSet(df)\n",
    "dfs = ds.transform(outliers_threshold=1, resampling_method=\"none\", scaling_method=\"none\")"
   ]
  },
  {
   "cell_type": "markdown",
   "id": "d9487c74",
   "metadata": {},
   "source": [
    "So, the total number of molecules (695) is split in an stratified manner (same proportion of actives/inactives in train and test) between train (499) and test (139). Those two sets will used as usual in any ML approach.  \n",
    "\n",
    "Apart from that, the test set is also joined with the discarded molecules and is split into a regular testing set (does not contain outliers) and an outlier testing set. "
   ]
  },
  {
   "cell_type": "code",
   "execution_count": 3,
   "id": "d4ba72f6",
   "metadata": {
    "scrolled": true
   },
   "outputs": [
    {
     "name": "stdout",
     "output_type": "stream",
     "text": [
      "X_train: (116, 4685)\n",
      "y_train: (116,)\n",
      "X_test: (69, 4685)\n",
      "y_test: (69,)\n",
      "X_test_reg: (28, 4685)\n",
      "y_test_reg: (28,)\n",
      "X_test_out: (200, 4685)\n",
      "y_test_out: (200,)\n"
     ]
    }
   ],
   "source": [
    "for k, v in dfs.items():\n",
    "    print(f\"{k}: {v.shape}\")"
   ]
  },
  {
   "cell_type": "markdown",
   "id": "f67cc18e",
   "metadata": {},
   "source": [
    "We will use a the a VotingClassifier without hyperparameter tuning to evaluate each threshold. Without removing outliers from the dataset (threshold = 0)."
   ]
  },
  {
   "cell_type": "code",
   "execution_count": 4,
   "id": "ac2bcd53",
   "metadata": {},
   "outputs": [],
   "source": [
    "from sklearn.neighbors import KNeighborsClassifier\n",
    "from sklearn.linear_model import LogisticRegression\n",
    "from sklearn.svm import SVC\n",
    "from sklearn.tree import DecisionTreeClassifier\n",
    "from sklearn.naive_bayes import BernoulliNB\n",
    "from sklearn.ensemble import VotingClassifier\n",
    "from sklearn.metrics import accuracy_score, matthews_corrcoef"
   ]
  },
  {
   "cell_type": "code",
   "execution_count": 5,
   "id": "c8b1d4f6",
   "metadata": {},
   "outputs": [],
   "source": [
    "ds = DataSet(df)\n",
    "dfs = ds.transform(outliers_threshold=0, resampling_method=\"none\", scaling_method=\"none\")\n",
    "\n",
    "X_train, y_train = dfs[\"X_train\"], dfs[\"y_train\"]\n",
    "X_test, y_test = dfs[\"X_test\"], dfs[\"y_test\"]\n",
    "\n",
    "clf = VotingClassifier(estimators=[\n",
    "    (\"knn\", KNeighborsClassifier()),\n",
    "    (\"lr\", LogisticRegression()),\n",
    "    (\"svc\", SVC()),\n",
    "    (\"tree\", DecisionTreeClassifier()),\n",
    "    (\"nb\", BernoulliNB())\n",
    "])"
   ]
  },
  {
   "cell_type": "markdown",
   "id": "a7e9ff21",
   "metadata": {},
   "source": [
    "We evaluate the performance of the model by a simple accuracy score. We evaluate the Voting Classifier as well as all the other individual models. For this first example, let's do it without removing outliers."
   ]
  },
  {
   "cell_type": "code",
   "execution_count": 6,
   "id": "edac8f45",
   "metadata": {},
   "outputs": [],
   "source": [
    "dfs = ds.transform(outliers_threshold=0, resampling_method=\"none\", scaling_method=\"none\")\n",
    "\n",
    "X_train, y_train = dfs[\"X_train\"], dfs[\"y_train\"]\n",
    "X_test, y_test = dfs[\"X_test\"], dfs[\"y_test\"]\n",
    "\n",
    "fitted_clf = clf.fit(X_train, y_train)\n",
    "y_pred_train = clf.predict(X_train)\n",
    "y_pred_test = clf.predict(X_test)\n",
    "\n",
    "score = [\n",
    "    False,\n",
    "    accuracy_score(y_train, y_pred_train),\n",
    "    accuracy_score(y_test, y_pred_test),\n",
    "    matthews_corrcoef(y_train, y_pred_train),\n",
    "    matthews_corrcoef(y_test, y_pred_test)\n",
    "]\n",
    "    \n",
    "ref_score = pd.DataFrame([score], columns=[\"processed\", \"train_acc\", \"test_acc\", \"train_matt\", \"test_matt\"])"
   ]
  },
  {
   "cell_type": "code",
   "execution_count": 7,
   "id": "3c0df01a",
   "metadata": {
    "scrolled": false
   },
   "outputs": [
    {
     "data": {
      "text/html": [
       "<div>\n",
       "<style scoped>\n",
       "    .dataframe tbody tr th:only-of-type {\n",
       "        vertical-align: middle;\n",
       "    }\n",
       "\n",
       "    .dataframe tbody tr th {\n",
       "        vertical-align: top;\n",
       "    }\n",
       "\n",
       "    .dataframe thead th {\n",
       "        text-align: right;\n",
       "    }\n",
       "</style>\n",
       "<table border=\"1\" class=\"dataframe\">\n",
       "  <thead>\n",
       "    <tr style=\"text-align: right;\">\n",
       "      <th></th>\n",
       "      <th>processed</th>\n",
       "      <th>train_acc</th>\n",
       "      <th>test_acc</th>\n",
       "      <th>train_matt</th>\n",
       "      <th>test_matt</th>\n",
       "    </tr>\n",
       "  </thead>\n",
       "  <tbody>\n",
       "    <tr>\n",
       "      <th>0</th>\n",
       "      <td>False</td>\n",
       "      <td>0.901818</td>\n",
       "      <td>0.782609</td>\n",
       "      <td>0.737445</td>\n",
       "      <td>0.388991</td>\n",
       "    </tr>\n",
       "  </tbody>\n",
       "</table>\n",
       "</div>"
      ],
      "text/plain": [
       "   processed  train_acc  test_acc  train_matt  test_matt\n",
       "0      False   0.901818  0.782609    0.737445   0.388991"
      ]
     },
     "execution_count": 7,
     "metadata": {},
     "output_type": "execute_result"
    }
   ],
   "source": [
    "ref_score"
   ]
  },
  {
   "cell_type": "markdown",
   "id": "37defcac",
   "metadata": {},
   "source": [
    "Notice how the test scores are clearly below the training ones, the model is clearly underfitting. It is expected because there are a lot of features and we are not tuning the hyperparameters nor reducing the dimensionality.  \n",
    "\n",
    "Now, let's see the effect of outlier removal:"
   ]
  },
  {
   "cell_type": "code",
   "execution_count": 10,
   "id": "f58ef72b",
   "metadata": {},
   "outputs": [
    {
     "name": "stderr",
     "output_type": "stream",
     "text": [
      "100%|██████████| 10/10 [00:42<00:00,  4.24s/it]\n"
     ]
    }
   ],
   "source": [
    "from tqdm import tqdm\n",
    "results = dict()\n",
    "for th in tqdm(range(1, 11)):\n",
    "    dfs = ds.transform(outliers_threshold=th, resampling_method=\"none\", scaling_method=\"none\")\n",
    "    \n",
    "    X_train, y_train = dfs[\"X_train\"], dfs[\"y_train\"]\n",
    "    X_test, y_test = dfs[\"X_test\"], dfs[\"y_test\"]\n",
    "    X_test_reg, y_test_reg = dfs[\"X_test_reg\"], dfs[\"y_test_reg\"]\n",
    "    X_test_out, y_test_out = dfs[\"X_test_out\"], dfs[\"y_test_out\"]\n",
    "    \n",
    "    fitted_clf = clf.fit(X_train, y_train)\n",
    "    scores = {k: dict() for k in [\"Train\", \"Test\", \"Regulars\", \"Outliers\"]}\n",
    "    y_pred_train = clf.predict(X_train)\n",
    "    y_pred_test = clf.predict(X_test)\n",
    "    y_pred_reg = clf.predict(X_test_reg)\n",
    "    y_pred_out = clf.predict(X_test_out)\n",
    "    scores[\"Train\"] = accuracy_score(y_train, y_pred_train)\n",
    "    scores[\"Test\"] = accuracy_score(y_test, y_pred_test)\n",
    "    scores[\"Regulars\"] = accuracy_score(y_test_reg, y_pred_reg)\n",
    "    scores[\"Outliers\"] = accuracy_score(y_test_out, y_pred_out)\n",
    "    results[th] = scores"
   ]
  },
  {
   "cell_type": "code",
   "execution_count": 11,
   "id": "afe3989d",
   "metadata": {},
   "outputs": [],
   "source": [
    "outliers_df = pd.DataFrame().from_dict(results, orient=\"index\")"
   ]
  },
  {
   "cell_type": "code",
   "execution_count": 13,
   "id": "076bb005",
   "metadata": {},
   "outputs": [
    {
     "data": {
      "image/png": "[encoded data removed]",
      "text/plain": [
       "<Figure size 432x288 with 1 Axes>"
      ]
     },
     "metadata": {
      "needs_background": "light"
     },
     "output_type": "display_data"
    }
   ],
   "source": [
    "import matplotlib.pyplot as plt\n",
    "outliers_df.plot(kind=\"line\")\n",
    "plt.xlabel(\"Outlier threshold\")\n",
    "plt.ylabel(\"Accuracy\")\n",
    "plt.xlim(1, 24)\n",
    "plt.grid()\n",
    "plt.savefig(f\"data/{target}/outliers.png\")"
   ]
  },
  {
   "cell_type": "markdown",
   "id": "811fa84f",
   "metadata": {},
   "source": [
    "Here we can se a trade-off between the regulars accuracy and the outliers accuracy. The more molecules we consider outliers, the better the model will be at classifying regulars and worse to classify outliers (molecules seen by the model will be more similar). "
   ]
  },
  {
   "cell_type": "markdown",
   "id": "535e5b19",
   "metadata": {},
   "source": [
    "## Resampling method performance evaluation\n",
    "Same procedure for evaluating the different resampling techniques."
   ]
  },
  {
   "cell_type": "code",
   "execution_count": 14,
   "id": "21526d7d",
   "metadata": {},
   "outputs": [
    {
     "name": "stderr",
     "output_type": "stream",
     "text": [
      "100%|██████████| 3/3 [00:15<00:00,  5.19s/it]\n"
     ]
    }
   ],
   "source": [
    "import warnings\n",
    "from sklearn.metrics import matthews_corrcoef\n",
    "warnings.filterwarnings('ignore') # Ignore pandas warnings in output (copy/slice)\n",
    "scores = list()\n",
    "for rsmp in tqdm([\"undersampling\", \"oversampling\", \"none\"]):\n",
    "    ds = DataSet(df)\n",
    "    dfs = ds.transform(outliers_threshold=0, resampling_method=rsmp, scaling_method=\"none\")\n",
    "    X_train, y_train = dfs[\"X_train\"], dfs[\"y_train\"]\n",
    "    X_test, y_test = dfs[\"X_test\"], dfs[\"y_test\"]\n",
    "\n",
    "    fitted_clf = clf.fit(X_train, y_train)\n",
    "    \n",
    "    y_pred_train = fitted_clf.predict(X_train)\n",
    "    y_pred_test = fitted_clf.predict(X_test)\n",
    "    \n",
    "    scores.append([\n",
    "        rsmp, \n",
    "        accuracy_score(y_train, y_pred_train),\n",
    "        accuracy_score(y_test, y_pred_test),\n",
    "        matthews_corrcoef(y_train, y_pred_train),\n",
    "        matthews_corrcoef(y_test, y_pred_test)\n",
    "    ])\n",
    "    \n",
    "rsmp_scores = pd.DataFrame(scores, columns=[\"method\", \"train_acc\", \"test_acc\", \"train_matt\", \"test_matt\"])\n"
   ]
  },
  {
   "cell_type": "code",
   "execution_count": 15,
   "id": "8da07cf5",
   "metadata": {},
   "outputs": [
    {
     "data": {
      "text/html": [
       "<div>\n",
       "<style scoped>\n",
       "    .dataframe tbody tr th:only-of-type {\n",
       "        vertical-align: middle;\n",
       "    }\n",
       "\n",
       "    .dataframe tbody tr th {\n",
       "        vertical-align: top;\n",
       "    }\n",
       "\n",
       "    .dataframe thead th {\n",
       "        text-align: right;\n",
       "    }\n",
       "</style>\n",
       "<table border=\"1\" class=\"dataframe\">\n",
       "  <thead>\n",
       "    <tr style=\"text-align: right;\">\n",
       "      <th></th>\n",
       "      <th>method</th>\n",
       "      <th>train_acc</th>\n",
       "      <th>test_acc</th>\n",
       "      <th>train_matt</th>\n",
       "      <th>test_matt</th>\n",
       "    </tr>\n",
       "  </thead>\n",
       "  <tbody>\n",
       "    <tr>\n",
       "      <th>0</th>\n",
       "      <td>undersampling</td>\n",
       "      <td>0.809859</td>\n",
       "      <td>0.695652</td>\n",
       "      <td>0.619780</td>\n",
       "      <td>0.453507</td>\n",
       "    </tr>\n",
       "    <tr>\n",
       "      <th>1</th>\n",
       "      <td>oversampling</td>\n",
       "      <td>0.884804</td>\n",
       "      <td>0.710145</td>\n",
       "      <td>0.779879</td>\n",
       "      <td>0.440266</td>\n",
       "    </tr>\n",
       "    <tr>\n",
       "      <th>2</th>\n",
       "      <td>none</td>\n",
       "      <td>0.901818</td>\n",
       "      <td>0.797101</td>\n",
       "      <td>0.737445</td>\n",
       "      <td>0.438894</td>\n",
       "    </tr>\n",
       "  </tbody>\n",
       "</table>\n",
       "</div>"
      ],
      "text/plain": [
       "          method  train_acc  test_acc  train_matt  test_matt\n",
       "0  undersampling   0.809859  0.695652    0.619780   0.453507\n",
       "1   oversampling   0.884804  0.710145    0.779879   0.440266\n",
       "2           none   0.901818  0.797101    0.737445   0.438894"
      ]
     },
     "execution_count": 15,
     "metadata": {},
     "output_type": "execute_result"
    }
   ],
   "source": [
    "rsmp_scores"
   ]
  },
  {
   "cell_type": "code",
   "execution_count": 16,
   "id": "a11c5294",
   "metadata": {},
   "outputs": [
    {
     "data": {
      "image/png": "[encoded data removed]",
      "text/plain": [
       "<Figure size 1080x360 with 2 Axes>"
      ]
     },
     "metadata": {
      "needs_background": "light"
     },
     "output_type": "display_data"
    }
   ],
   "source": [
    "import matplotlib.pyplot as plt\n",
    "\n",
    "xlab = \"Resampling method\"\n",
    "methods = [\"undersampling\", \"oversampling\", \"none\"]\n",
    "\n",
    "fig, axs = plt.subplots(1, 2, figsize=(15, 5))\n",
    "\n",
    "sc = rsmp_scores[[\"method\", \"train_acc\", \"test_acc\"]]\n",
    "sc.plot(\n",
    "    x=\"method\", \n",
    "    marker=\"o\", \n",
    "    linestyle=\"--\", \n",
    "    xlim=(-1, 3), \n",
    "    xticks=[0, 1, 2, 3, 4], \n",
    "    xlabel=xlab, \n",
    "    ylabel=\"Accuracy\",\n",
    "    ax=axs[0]\n",
    ")\n",
    "axs[0].legend([\"Train\", \"Test\"])\n",
    "axs[0].grid(axis=\"y\")\n",
    "for i, met in enumerate(methods):\n",
    "    test = sc[sc[\"method\"] == met][\"test_acc\"]\n",
    "    train = sc[sc[\"method\"] == met][\"train_acc\"]\n",
    "    diff = float(train-test)\n",
    "    axs[0].vlines(x=i, ymin=test, ymax=train, color=\"gray\", linestyle=\"--\")\n",
    "    axs[0].text(x=i+0.1, y=test + diff/2, s=f\"∆ = {diff:.2f}\")\n",
    "\n",
    "sc = rsmp_scores[[\"method\", \"train_matt\", \"test_matt\"]]\n",
    "sc.plot(\n",
    "    x=\"method\", \n",
    "    marker=\"o\", \n",
    "    linestyle=\"--\", \n",
    "    xlim=(-1, 3), \n",
    "    xticks=[0, 1, 2, 3, 4], \n",
    "    xlabel=xlab, \n",
    "    ylabel=\"Matthews correlation coefficient\",\n",
    "    ax=axs[1]\n",
    ")\n",
    "axs[1].legend([\"Train\", \"Test\"])\n",
    "axs[1].grid(axis=\"y\")\n",
    "for i, met in enumerate(methods):\n",
    "    test = sc[sc[\"method\"] == met][\"test_matt\"]\n",
    "    train = sc[sc[\"method\"] == met][\"train_matt\"]\n",
    "    diff = float(train-test)\n",
    "    axs[1].vlines(x=i, ymin=test, ymax=train, color=\"gray\", linestyle=\"--\")\n",
    "    axs[1].text(x=i+0.1, y=test + diff/2, s=f\"∆ = {diff:.2f}\")\n",
    "plt.savefig(f\"data/{target}/resampling.png\")"
   ]
  },
  {
   "cell_type": "markdown",
   "id": "810d00a7",
   "metadata": {},
   "source": [
    "In this example, it seems that neither under or oversampling improve the model."
   ]
  },
  {
   "cell_type": "markdown",
   "id": "ad95f054",
   "metadata": {},
   "source": [
    "## Scaling method evaluation performance\n",
    "ML algorithms usually work better with scaled data. Let's test that:"
   ]
  },
  {
   "cell_type": "code",
   "execution_count": 17,
   "id": "0acd2f27",
   "metadata": {},
   "outputs": [
    {
     "name": "stderr",
     "output_type": "stream",
     "text": [
      "100%|██████████| 3/3 [00:13<00:00,  4.50s/it]\n"
     ]
    }
   ],
   "source": [
    "import warnings\n",
    "warnings.filterwarnings('ignore') # Ignore pandas warnings in output (copy/slice)\n",
    "scores = list()\n",
    "for scl in tqdm([\"standarize\", \"normalize\", \"none\"]):\n",
    "    ds = DataSet(df)\n",
    "    dfs = ds.transform(outliers_threshold=0, resampling_method=\"none\", scaling_method=scl)\n",
    "    X_train, y_train = dfs[\"X_train\"], dfs[\"y_train\"]\n",
    "    X_test, y_test = dfs[\"X_test\"], dfs[\"y_test\"]\n",
    "\n",
    "    fitted_clf = clf.fit(X_train, y_train)\n",
    "    y_pred_train = fitted_clf.predict(X_train)\n",
    "    y_pred_test = fitted_clf.predict(X_test)\n",
    "    \n",
    "    scores.append([\n",
    "        scl, \n",
    "        accuracy_score(y_train, y_pred_train),\n",
    "        accuracy_score(y_test, y_pred_test),\n",
    "        matthews_corrcoef(y_train, y_pred_train),\n",
    "        matthews_corrcoef(y_test, y_pred_test)\n",
    "    ])\n",
    "    \n",
    "scl_scores = pd.DataFrame(scores, columns=[\"method\", \"train_acc\", \"test_acc\", \"train_matt\", \"test_matt\"])\n"
   ]
  },
  {
   "cell_type": "code",
   "execution_count": 18,
   "id": "f83ccb67",
   "metadata": {},
   "outputs": [
    {
     "data": {
      "text/html": [
       "<div>\n",
       "<style scoped>\n",
       "    .dataframe tbody tr th:only-of-type {\n",
       "        vertical-align: middle;\n",
       "    }\n",
       "\n",
       "    .dataframe tbody tr th {\n",
       "        vertical-align: top;\n",
       "    }\n",
       "\n",
       "    .dataframe thead th {\n",
       "        text-align: right;\n",
       "    }\n",
       "</style>\n",
       "<table border=\"1\" class=\"dataframe\">\n",
       "  <thead>\n",
       "    <tr style=\"text-align: right;\">\n",
       "      <th></th>\n",
       "      <th>method</th>\n",
       "      <th>train_acc</th>\n",
       "      <th>test_acc</th>\n",
       "      <th>train_matt</th>\n",
       "      <th>test_matt</th>\n",
       "    </tr>\n",
       "  </thead>\n",
       "  <tbody>\n",
       "    <tr>\n",
       "      <th>0</th>\n",
       "      <td>standarize</td>\n",
       "      <td>0.974545</td>\n",
       "      <td>0.811594</td>\n",
       "      <td>0.933544</td>\n",
       "      <td>0.502864</td>\n",
       "    </tr>\n",
       "    <tr>\n",
       "      <th>1</th>\n",
       "      <td>normalize</td>\n",
       "      <td>0.952727</td>\n",
       "      <td>0.840580</td>\n",
       "      <td>0.874749</td>\n",
       "      <td>0.579459</td>\n",
       "    </tr>\n",
       "    <tr>\n",
       "      <th>2</th>\n",
       "      <td>none</td>\n",
       "      <td>0.901818</td>\n",
       "      <td>0.768116</td>\n",
       "      <td>0.737445</td>\n",
       "      <td>0.377420</td>\n",
       "    </tr>\n",
       "  </tbody>\n",
       "</table>\n",
       "</div>"
      ],
      "text/plain": [
       "       method  train_acc  test_acc  train_matt  test_matt\n",
       "0  standarize   0.974545  0.811594    0.933544   0.502864\n",
       "1   normalize   0.952727  0.840580    0.874749   0.579459\n",
       "2        none   0.901818  0.768116    0.737445   0.377420"
      ]
     },
     "execution_count": 18,
     "metadata": {},
     "output_type": "execute_result"
    }
   ],
   "source": [
    "scl_scores"
   ]
  },
  {
   "cell_type": "code",
   "execution_count": 19,
   "id": "412847e3",
   "metadata": {},
   "outputs": [
    {
     "data": {
      "image/png": "[encoded data removed]",
      "text/plain": [
       "<Figure size 1080x360 with 2 Axes>"
      ]
     },
     "metadata": {
      "needs_background": "light"
     },
     "output_type": "display_data"
    }
   ],
   "source": [
    "import matplotlib.pyplot as plt\n",
    "\n",
    "xlab = \"Scaling method\"\n",
    "methods = [\"standarize\", \"normalize\", \"none\"]\n",
    "\n",
    "fig, axs = plt.subplots(1, 2, figsize=(15, 5))\n",
    "\n",
    "sc = scl_scores[[\"method\", \"train_acc\", \"test_acc\"]]\n",
    "sc.plot(\n",
    "    x=\"method\", \n",
    "    marker=\"o\", \n",
    "    linestyle=\"--\", \n",
    "    xlim=(-1, 3), \n",
    "    xticks=[0, 1, 2, 3, 4], \n",
    "    xlabel=xlab, \n",
    "    ylabel=\"Accuracy\",\n",
    "    ax=axs[0]\n",
    ")\n",
    "axs[0].legend([\"Train\", \"Test\"])\n",
    "axs[0].grid(axis=\"y\")\n",
    "for i, met in enumerate(methods):\n",
    "    test = sc[sc[\"method\"] == met][\"test_acc\"]\n",
    "    train = sc[sc[\"method\"] == met][\"train_acc\"]\n",
    "    diff = float(train-test)\n",
    "    axs[0].vlines(x=i, ymin=test, ymax=train, color=\"gray\", linestyle=\"--\")\n",
    "    axs[0].text(x=i+0.1, y=test + diff/2, s=f\"∆ = {diff:.2f}\")\n",
    "\n",
    "sc = scl_scores[[\"method\", \"train_matt\", \"test_matt\"]]\n",
    "sc.plot(\n",
    "    x=\"method\", \n",
    "    marker=\"o\", \n",
    "    linestyle=\"--\", \n",
    "    xlim=(-1, 3), \n",
    "    xticks=[0, 1, 2, 3, 4], \n",
    "    xlabel=xlab, \n",
    "    ylabel=\"Matthews correlation coefficient\",\n",
    "    ax=axs[1]\n",
    ")\n",
    "axs[1].legend([\"Train\", \"Test\"])\n",
    "axs[1].grid(axis=\"y\")\n",
    "for i, met in enumerate(methods):\n",
    "    test = sc[sc[\"method\"] == met][\"test_matt\"]\n",
    "    train = sc[sc[\"method\"] == met][\"train_matt\"]\n",
    "    diff = float(train-test)\n",
    "    axs[1].vlines(x=i, ymin=test, ymax=train, color=\"gray\", linestyle=\"--\")\n",
    "    axs[1].text(x=i+0.1, y=test + diff/2, s=f\"∆ = {diff:.2f}\")\n",
    "plt.savefig(f\"data/{target}/scaling.png\")"
   ]
  },
  {
   "cell_type": "markdown",
   "id": "fb9eed4a",
   "metadata": {},
   "source": [
    "As expected, the model improves significantly after scaling the data. Now, the model is fitting a little better. Cumulative effect:"
   ]
  },
  {
   "cell_type": "code",
   "execution_count": 20,
   "id": "3b51f113",
   "metadata": {},
   "outputs": [],
   "source": [
    "ds = DataSet(df)\n",
    "dfs = ds.transform(outliers_threshold=10, resampling_method=\"oversampling\", scaling_method=\"standarize\")\n",
    "X_train, y_train = dfs[\"X_train\"], dfs[\"y_train\"]\n",
    "X_test, y_test = dfs[\"X_test\"], dfs[\"y_test\"]\n",
    "\n",
    "fitted_clf = clf.fit(X_train, y_train)\n",
    "\n",
    "y_pred_train = fitted_clf.predict(X_train)\n",
    "y_pred_test = fitted_clf.predict(X_test)\n",
    "    \n",
    "score = [\n",
    "    True,\n",
    "    accuracy_score(y_train, y_pred_train),\n",
    "    accuracy_score(y_test, y_pred_test),\n",
    "    matthews_corrcoef(y_train, y_pred_train),\n",
    "    matthews_corrcoef(y_test, y_pred_test)\n",
    "]\n",
    "    \n",
    "cum_score = pd.DataFrame([score], columns=[\"processed\", \"train_acc\", \"test_acc\", \"train_matt\", \"test_matt\"])"
   ]
  },
  {
   "cell_type": "code",
   "execution_count": 21,
   "id": "ae0067f5",
   "metadata": {},
   "outputs": [
    {
     "data": {
      "text/html": [
       "<div>\n",
       "<style scoped>\n",
       "    .dataframe tbody tr th:only-of-type {\n",
       "        vertical-align: middle;\n",
       "    }\n",
       "\n",
       "    .dataframe tbody tr th {\n",
       "        vertical-align: top;\n",
       "    }\n",
       "\n",
       "    .dataframe thead th {\n",
       "        text-align: right;\n",
       "    }\n",
       "</style>\n",
       "<table border=\"1\" class=\"dataframe\">\n",
       "  <thead>\n",
       "    <tr style=\"text-align: right;\">\n",
       "      <th></th>\n",
       "      <th>processed</th>\n",
       "      <th>train_acc</th>\n",
       "      <th>test_acc</th>\n",
       "      <th>train_matt</th>\n",
       "      <th>test_matt</th>\n",
       "      <th>method</th>\n",
       "    </tr>\n",
       "  </thead>\n",
       "  <tbody>\n",
       "    <tr>\n",
       "      <th>1</th>\n",
       "      <td>NaN</td>\n",
       "      <td>0.952727</td>\n",
       "      <td>0.840580</td>\n",
       "      <td>0.874749</td>\n",
       "      <td>0.579459</td>\n",
       "      <td>normalize</td>\n",
       "    </tr>\n",
       "    <tr>\n",
       "      <th>0</th>\n",
       "      <td>NaN</td>\n",
       "      <td>0.974545</td>\n",
       "      <td>0.811594</td>\n",
       "      <td>0.933544</td>\n",
       "      <td>0.502864</td>\n",
       "      <td>standarize</td>\n",
       "    </tr>\n",
       "    <tr>\n",
       "      <th>2</th>\n",
       "      <td>NaN</td>\n",
       "      <td>0.901818</td>\n",
       "      <td>0.797101</td>\n",
       "      <td>0.737445</td>\n",
       "      <td>0.438894</td>\n",
       "      <td>none</td>\n",
       "    </tr>\n",
       "    <tr>\n",
       "      <th>0</th>\n",
       "      <td>False</td>\n",
       "      <td>0.901818</td>\n",
       "      <td>0.782609</td>\n",
       "      <td>0.737445</td>\n",
       "      <td>0.388991</td>\n",
       "      <td>NaN</td>\n",
       "    </tr>\n",
       "    <tr>\n",
       "      <th>2</th>\n",
       "      <td>NaN</td>\n",
       "      <td>0.901818</td>\n",
       "      <td>0.768116</td>\n",
       "      <td>0.737445</td>\n",
       "      <td>0.377420</td>\n",
       "      <td>none</td>\n",
       "    </tr>\n",
       "    <tr>\n",
       "      <th>1</th>\n",
       "      <td>NaN</td>\n",
       "      <td>0.884804</td>\n",
       "      <td>0.710145</td>\n",
       "      <td>0.779879</td>\n",
       "      <td>0.440266</td>\n",
       "      <td>oversampling</td>\n",
       "    </tr>\n",
       "    <tr>\n",
       "      <th>0</th>\n",
       "      <td>NaN</td>\n",
       "      <td>0.809859</td>\n",
       "      <td>0.695652</td>\n",
       "      <td>0.619780</td>\n",
       "      <td>0.453507</td>\n",
       "      <td>undersampling</td>\n",
       "    </tr>\n",
       "    <tr>\n",
       "      <th>0</th>\n",
       "      <td>True</td>\n",
       "      <td>1.000000</td>\n",
       "      <td>0.666667</td>\n",
       "      <td>1.000000</td>\n",
       "      <td>0.086976</td>\n",
       "      <td>NaN</td>\n",
       "    </tr>\n",
       "  </tbody>\n",
       "</table>\n",
       "</div>"
      ],
      "text/plain": [
       "  processed  train_acc  test_acc  train_matt  test_matt         method\n",
       "1       NaN   0.952727  0.840580    0.874749   0.579459      normalize\n",
       "0       NaN   0.974545  0.811594    0.933544   0.502864     standarize\n",
       "2       NaN   0.901818  0.797101    0.737445   0.438894           none\n",
       "0     False   0.901818  0.782609    0.737445   0.388991            NaN\n",
       "2       NaN   0.901818  0.768116    0.737445   0.377420           none\n",
       "1       NaN   0.884804  0.710145    0.779879   0.440266   oversampling\n",
       "0       NaN   0.809859  0.695652    0.619780   0.453507  undersampling\n",
       "0      True   1.000000  0.666667    1.000000   0.086976            NaN"
      ]
     },
     "execution_count": 21,
     "metadata": {},
     "output_type": "execute_result"
    }
   ],
   "source": [
    "summ = cum_score.append(ref_score)\n",
    "summ = summ.append(rsmp_scores)\n",
    "summ.append(scl_scores).sort_values(\"test_acc\", ascending=False)"
   ]
  },
  {
   "cell_type": "markdown",
   "id": "f0d11fba",
   "metadata": {},
   "source": [
    "The effect is not additive. Let's now check all possible combinations between:\n",
    "- `outlier_threshold` = 0, 2, 4, 6, 8, 10\n",
    "- `resampling_method` = undersampling, oversampling and none\n",
    "- `scaling_method` = normalize, standarize and none\n",
    "\n",
    "In total, 54 combinations."
   ]
  },
  {
   "cell_type": "code",
   "execution_count": 23,
   "id": "2c9563a1",
   "metadata": {},
   "outputs": [
    {
     "name": "stderr",
     "output_type": "stream",
     "text": [
      "27it [02:27,  5.45s/it]\n"
     ]
    },
    {
     "ename": "ValueError",
     "evalue": "Expected n_neighbors <= n_samples,  but n_samples = 2, n_neighbors = 5",
     "output_type": "error",
     "traceback": [
      "\u001b[0;31m---------------------------------------------------------------------------\u001b[0m",
      "\u001b[0;31mValueError\u001b[0m                                Traceback (most recent call last)",
      "\u001b[0;32m<ipython-input-23-bd00ea0fc850>\u001b[0m in \u001b[0;36m<module>\u001b[0;34m\u001b[0m\n\u001b[1;32m     14\u001b[0m     \u001b[0mfitted_clf\u001b[0m \u001b[0;34m=\u001b[0m \u001b[0mclf\u001b[0m\u001b[0;34m.\u001b[0m\u001b[0mfit\u001b[0m\u001b[0;34m(\u001b[0m\u001b[0mX_train\u001b[0m\u001b[0;34m,\u001b[0m \u001b[0my_train\u001b[0m\u001b[0;34m)\u001b[0m\u001b[0;34m\u001b[0m\u001b[0;34m\u001b[0m\u001b[0m\n\u001b[1;32m     15\u001b[0m \u001b[0;34m\u001b[0m\u001b[0m\n\u001b[0;32m---> 16\u001b[0;31m     \u001b[0my_pred_train\u001b[0m \u001b[0;34m=\u001b[0m \u001b[0mfitted_clf\u001b[0m\u001b[0;34m.\u001b[0m\u001b[0mpredict\u001b[0m\u001b[0;34m(\u001b[0m\u001b[0mX_train\u001b[0m\u001b[0;34m)\u001b[0m\u001b[0;34m\u001b[0m\u001b[0;34m\u001b[0m\u001b[0m\n\u001b[0m\u001b[1;32m     17\u001b[0m     \u001b[0my_pred_test\u001b[0m \u001b[0;34m=\u001b[0m \u001b[0mfitted_clf\u001b[0m\u001b[0;34m.\u001b[0m\u001b[0mpredict\u001b[0m\u001b[0;34m(\u001b[0m\u001b[0mX_test\u001b[0m\u001b[0;34m)\u001b[0m\u001b[0;34m\u001b[0m\u001b[0;34m\u001b[0m\u001b[0m\n\u001b[1;32m     18\u001b[0m     scores.append([\n",
      "\u001b[0;32m~/miniconda3/envs/ModTox/lib/python3.6/site-packages/sklearn/ensemble/_voting.py\u001b[0m in \u001b[0;36mpredict\u001b[0;34m(self, X)\u001b[0m\n\u001b[1;32m    310\u001b[0m \u001b[0;34m\u001b[0m\u001b[0m\n\u001b[1;32m    311\u001b[0m         \u001b[0;32melse\u001b[0m\u001b[0;34m:\u001b[0m  \u001b[0;31m# 'hard' voting\u001b[0m\u001b[0;34m\u001b[0m\u001b[0;34m\u001b[0m\u001b[0m\n\u001b[0;32m--> 312\u001b[0;31m             \u001b[0mpredictions\u001b[0m \u001b[0;34m=\u001b[0m \u001b[0mself\u001b[0m\u001b[0;34m.\u001b[0m\u001b[0m_predict\u001b[0m\u001b[0;34m(\u001b[0m\u001b[0mX\u001b[0m\u001b[0;34m)\u001b[0m\u001b[0;34m\u001b[0m\u001b[0;34m\u001b[0m\u001b[0m\n\u001b[0m\u001b[1;32m    313\u001b[0m             maj = np.apply_along_axis(\n\u001b[1;32m    314\u001b[0m                 lambda x: np.argmax(\n",
      "\u001b[0;32m~/miniconda3/envs/ModTox/lib/python3.6/site-packages/sklearn/ensemble/_voting.py\u001b[0m in \u001b[0;36m_predict\u001b[0;34m(self, X)\u001b[0m\n\u001b[1;32m     59\u001b[0m     \u001b[0;32mdef\u001b[0m \u001b[0m_predict\u001b[0m\u001b[0;34m(\u001b[0m\u001b[0mself\u001b[0m\u001b[0;34m,\u001b[0m \u001b[0mX\u001b[0m\u001b[0;34m)\u001b[0m\u001b[0;34m:\u001b[0m\u001b[0;34m\u001b[0m\u001b[0;34m\u001b[0m\u001b[0m\n\u001b[1;32m     60\u001b[0m         \u001b[0;34m\"\"\"Collect results from clf.predict calls.\"\"\"\u001b[0m\u001b[0;34m\u001b[0m\u001b[0;34m\u001b[0m\u001b[0m\n\u001b[0;32m---> 61\u001b[0;31m         \u001b[0;32mreturn\u001b[0m \u001b[0mnp\u001b[0m\u001b[0;34m.\u001b[0m\u001b[0masarray\u001b[0m\u001b[0;34m(\u001b[0m\u001b[0;34m[\u001b[0m\u001b[0mest\u001b[0m\u001b[0;34m.\u001b[0m\u001b[0mpredict\u001b[0m\u001b[0;34m(\u001b[0m\u001b[0mX\u001b[0m\u001b[0;34m)\u001b[0m \u001b[0;32mfor\u001b[0m \u001b[0mest\u001b[0m \u001b[0;32min\u001b[0m \u001b[0mself\u001b[0m\u001b[0;34m.\u001b[0m\u001b[0mestimators_\u001b[0m\u001b[0;34m]\u001b[0m\u001b[0;34m)\u001b[0m\u001b[0;34m.\u001b[0m\u001b[0mT\u001b[0m\u001b[0;34m\u001b[0m\u001b[0;34m\u001b[0m\u001b[0m\n\u001b[0m\u001b[1;32m     62\u001b[0m \u001b[0;34m\u001b[0m\u001b[0m\n\u001b[1;32m     63\u001b[0m     \u001b[0;34m@\u001b[0m\u001b[0mabstractmethod\u001b[0m\u001b[0;34m\u001b[0m\u001b[0;34m\u001b[0m\u001b[0m\n",
      "\u001b[0;32m~/miniconda3/envs/ModTox/lib/python3.6/site-packages/sklearn/ensemble/_voting.py\u001b[0m in \u001b[0;36m<listcomp>\u001b[0;34m(.0)\u001b[0m\n\u001b[1;32m     59\u001b[0m     \u001b[0;32mdef\u001b[0m \u001b[0m_predict\u001b[0m\u001b[0;34m(\u001b[0m\u001b[0mself\u001b[0m\u001b[0;34m,\u001b[0m \u001b[0mX\u001b[0m\u001b[0;34m)\u001b[0m\u001b[0;34m:\u001b[0m\u001b[0;34m\u001b[0m\u001b[0;34m\u001b[0m\u001b[0m\n\u001b[1;32m     60\u001b[0m         \u001b[0;34m\"\"\"Collect results from clf.predict calls.\"\"\"\u001b[0m\u001b[0;34m\u001b[0m\u001b[0;34m\u001b[0m\u001b[0m\n\u001b[0;32m---> 61\u001b[0;31m         \u001b[0;32mreturn\u001b[0m \u001b[0mnp\u001b[0m\u001b[0;34m.\u001b[0m\u001b[0masarray\u001b[0m\u001b[0;34m(\u001b[0m\u001b[0;34m[\u001b[0m\u001b[0mest\u001b[0m\u001b[0;34m.\u001b[0m\u001b[0mpredict\u001b[0m\u001b[0;34m(\u001b[0m\u001b[0mX\u001b[0m\u001b[0;34m)\u001b[0m \u001b[0;32mfor\u001b[0m \u001b[0mest\u001b[0m \u001b[0;32min\u001b[0m \u001b[0mself\u001b[0m\u001b[0;34m.\u001b[0m\u001b[0mestimators_\u001b[0m\u001b[0;34m]\u001b[0m\u001b[0;34m)\u001b[0m\u001b[0;34m.\u001b[0m\u001b[0mT\u001b[0m\u001b[0;34m\u001b[0m\u001b[0;34m\u001b[0m\u001b[0m\n\u001b[0m\u001b[1;32m     62\u001b[0m \u001b[0;34m\u001b[0m\u001b[0m\n\u001b[1;32m     63\u001b[0m     \u001b[0;34m@\u001b[0m\u001b[0mabstractmethod\u001b[0m\u001b[0;34m\u001b[0m\u001b[0;34m\u001b[0m\u001b[0m\n",
      "\u001b[0;32m~/miniconda3/envs/ModTox/lib/python3.6/site-packages/sklearn/neighbors/_classification.py\u001b[0m in \u001b[0;36mpredict\u001b[0;34m(self, X)\u001b[0m\n\u001b[1;32m    195\u001b[0m         \u001b[0mX\u001b[0m \u001b[0;34m=\u001b[0m \u001b[0mcheck_array\u001b[0m\u001b[0;34m(\u001b[0m\u001b[0mX\u001b[0m\u001b[0;34m,\u001b[0m \u001b[0maccept_sparse\u001b[0m\u001b[0;34m=\u001b[0m\u001b[0;34m'csr'\u001b[0m\u001b[0;34m)\u001b[0m\u001b[0;34m\u001b[0m\u001b[0;34m\u001b[0m\u001b[0m\n\u001b[1;32m    196\u001b[0m \u001b[0;34m\u001b[0m\u001b[0m\n\u001b[0;32m--> 197\u001b[0;31m         \u001b[0mneigh_dist\u001b[0m\u001b[0;34m,\u001b[0m \u001b[0mneigh_ind\u001b[0m \u001b[0;34m=\u001b[0m \u001b[0mself\u001b[0m\u001b[0;34m.\u001b[0m\u001b[0mkneighbors\u001b[0m\u001b[0;34m(\u001b[0m\u001b[0mX\u001b[0m\u001b[0;34m)\u001b[0m\u001b[0;34m\u001b[0m\u001b[0;34m\u001b[0m\u001b[0m\n\u001b[0m\u001b[1;32m    198\u001b[0m         \u001b[0mclasses_\u001b[0m \u001b[0;34m=\u001b[0m \u001b[0mself\u001b[0m\u001b[0;34m.\u001b[0m\u001b[0mclasses_\u001b[0m\u001b[0;34m\u001b[0m\u001b[0;34m\u001b[0m\u001b[0m\n\u001b[1;32m    199\u001b[0m         \u001b[0m_y\u001b[0m \u001b[0;34m=\u001b[0m \u001b[0mself\u001b[0m\u001b[0;34m.\u001b[0m\u001b[0m_y\u001b[0m\u001b[0;34m\u001b[0m\u001b[0;34m\u001b[0m\u001b[0m\n",
      "\u001b[0;32m~/miniconda3/envs/ModTox/lib/python3.6/site-packages/sklearn/neighbors/_base.py\u001b[0m in \u001b[0;36mkneighbors\u001b[0;34m(self, X, n_neighbors, return_distance)\u001b[0m\n\u001b[1;32m    681\u001b[0m                 \u001b[0;34m\"Expected n_neighbors <= n_samples, \"\u001b[0m\u001b[0;34m\u001b[0m\u001b[0;34m\u001b[0m\u001b[0m\n\u001b[1;32m    682\u001b[0m                 \u001b[0;34m\" but n_samples = %d, n_neighbors = %d\"\u001b[0m \u001b[0;34m%\u001b[0m\u001b[0;34m\u001b[0m\u001b[0;34m\u001b[0m\u001b[0m\n\u001b[0;32m--> 683\u001b[0;31m                 \u001b[0;34m(\u001b[0m\u001b[0mn_samples_fit\u001b[0m\u001b[0;34m,\u001b[0m \u001b[0mn_neighbors\u001b[0m\u001b[0;34m)\u001b[0m\u001b[0;34m\u001b[0m\u001b[0;34m\u001b[0m\u001b[0m\n\u001b[0m\u001b[1;32m    684\u001b[0m             )\n\u001b[1;32m    685\u001b[0m \u001b[0;34m\u001b[0m\u001b[0m\n",
      "\u001b[0;31mValueError\u001b[0m: Expected n_neighbors <= n_samples,  but n_samples = 2, n_neighbors = 5"
     ]
    }
   ],
   "source": [
    "import itertools\n",
    "from sklearn.metrics import matthews_corrcoef\n",
    "combinations = itertools.product(list(range(0, 7, 2)), \n",
    "                                  [\"undersampling\", \"oversampling\", \"none\"], \n",
    "                                  [\"standarize\", \"normalize\", \"none\"])\n",
    "scores = list()\n",
    "for comb in tqdm(combinations):\n",
    "    ds = DataSet(df)\n",
    "    dfs = ds.transform(outliers_threshold=comb[0], resampling_method=comb[1], scaling_method=comb[2])\n",
    "    \n",
    "    X_train, y_train = dfs[\"X_train\"], dfs[\"y_train\"]\n",
    "    X_test, y_test = dfs[\"X_test\"], dfs[\"y_test\"]\n",
    "\n",
    "    fitted_clf = clf.fit(X_train, y_train)\n",
    "\n",
    "    y_pred_train = fitted_clf.predict(X_train)\n",
    "    y_pred_test = fitted_clf.predict(X_test)\n",
    "    scores.append([\n",
    "        comb[0],\n",
    "        comb[1],\n",
    "        comb[2],\n",
    "        accuracy_score(y_train, y_pred_train),\n",
    "        accuracy_score(y_test, y_pred_test),\n",
    "        matthews_corrcoef(y_train, y_pred_train),\n",
    "        matthews_corrcoef(y_test, y_pred_test)\n",
    "    ])\n",
    "score_df = pd.DataFrame(scores, columns=[\"out_threshold\", \"resampling\", \"scaling\",\"acc_train\", \"acc_test\", \"matt_train\", \"matt_test\"])"
   ]
  },
  {
   "cell_type": "code",
   "execution_count": null,
   "id": "541c327e",
   "metadata": {},
   "outputs": [],
   "source": [
    "score_df.sort_values(\"acc_test\", ascending=False).head(5)"
   ]
  },
  {
   "cell_type": "code",
   "execution_count": null,
   "id": "c69e9082",
   "metadata": {},
   "outputs": [],
   "source": [
    "score_df.sort_values(\"matt_test\", ascending=False).head(5)"
   ]
  },
  {
   "cell_type": "code",
   "execution_count": null,
   "id": "75c8e069",
   "metadata": {},
   "outputs": [],
   "source": [
    "score_df.to_csv(f\"data/{target}/preprocessing.csv\")"
   ]
  },
  {
   "cell_type": "markdown",
   "id": "a70f4574",
   "metadata": {},
   "source": [
    "In this case, it seems that the best performing dataset is without resampling nor outlier removal, and normalizing. It is important that here we are not selecting for outlier/regular performance."
   ]
  }
 ],
 "metadata": {
  "kernelspec": {
   "display_name": "Python 3",
   "language": "python",
   "name": "python3"
  },
  "language_info": {
   "codemirror_mode": {
    "name": "ipython",
    "version": 3
   },
   "file_extension": ".py",
   "mimetype": "text/x-python",
   "name": "python",
   "nbconvert_exporter": "python",
   "pygments_lexer": "ipython3",
   "version": "3.6.13"
  }
 },
 "nbformat": 4,
 "nbformat_minor": 5
}
