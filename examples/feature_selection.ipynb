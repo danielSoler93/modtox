{
 "cells": [
  {
   "cell_type": "markdown",
   "id": "9cf55a46",
   "metadata": {},
   "source": [
    "# `modtox.FeatureSelector` \n",
    "Here, we will evaluate how different feature selection techniques affect the performance of the model. We will use the dataset with the best parameter combination (in terms of accuracy). \n",
    "\n",
    "There are two implemented ways to reduce the number of features:\n",
    "- __PCA :__ reduces dimensionality by projecting in a lower-dimension plane.\n",
    "- __RFECV :__ stepwise removal of features and evaluation."
   ]
  },
  {
   "cell_type": "code",
   "execution_count": 1,
   "id": "e78b92e0",
   "metadata": {},
   "outputs": [],
   "source": [
    "import pandas as pd\n",
    "import os\n",
    "\n",
    "from modtox.modtox.ML.dataset import DataSet\n",
    "\n",
    "target = \"3ai8\"\n",
    "csv = os.path.join(os.path.abspath(\"\"), \"data\", target, \"mordred_topo_morgan.csv\")\n",
    "df = pd.read_csv(csv, index_col=0)\n",
    "ds = DataSet(df)\n",
    "\n",
    "import warnings\n",
    "warnings.filterwarnings('ignore')  # Ignore pandas warnings in output (copy/slice)\n",
    "dfs = ds.transform(outliers_threshold=0, resampling_method=\"none\", scaling_method=\"normalize\")\n",
    "\n",
    "X_train, y_train = dfs[\"X_train\"], dfs[\"y_train\"]\n",
    "X_test, y_test = dfs[\"X_test\"], dfs[\"y_test\"]"
   ]
  },
  {
   "cell_type": "markdown",
   "id": "43cb50eb",
   "metadata": {},
   "source": [
    "## Evaluation methodology\n",
    "The performance of each selection will evaluated with an untuned VotingClassifier and compared to the non-reduced scores."
   ]
  },
  {
   "cell_type": "code",
   "execution_count": 2,
   "id": "0996fa84",
   "metadata": {},
   "outputs": [],
   "source": [
    "from sklearn.neighbors import KNeighborsClassifier\n",
    "from sklearn.linear_model import LogisticRegression\n",
    "from sklearn.svm import SVC\n",
    "from sklearn.tree import DecisionTreeClassifier\n",
    "from sklearn.naive_bayes import BernoulliNB\n",
    "from sklearn.ensemble import VotingClassifier\n",
    "from sklearn.metrics import accuracy_score, matthews_corrcoef"
   ]
  },
  {
   "cell_type": "code",
   "execution_count": 3,
   "id": "ee1870e9",
   "metadata": {},
   "outputs": [],
   "source": [
    "def score(X_train, y_train, X_test, y_test):\n",
    "    clf = VotingClassifier(estimators=[\n",
    "        (\"knn\", KNeighborsClassifier()),\n",
    "        (\"lr\", LogisticRegression()),\n",
    "        (\"svc\", SVC()),\n",
    "        (\"tree\", DecisionTreeClassifier()),\n",
    "        (\"nb\", BernoulliNB())\n",
    "    ])\n",
    "    \n",
    "    fitted_clf = clf.fit(X_train, y_train)\n",
    "    y_pred_train = fitted_clf.predict(X_train)\n",
    "    ref_acc_train = accuracy_score(y_train, y_pred_train)\n",
    "    ref_matt_train = matthews_corrcoef(y_train, y_pred_train)\n",
    "\n",
    "    y_pred_test = fitted_clf.predict(X_test)\n",
    "    ref_acc_test = accuracy_score(y_test, y_pred_test)\n",
    "    ref_matt_test = matthews_corrcoef(y_test, y_pred_test)\n",
    "    \n",
    "    scores = [ref_acc_train, ref_acc_test, ref_matt_train, ref_matt_test]\n",
    "    df = pd.DataFrame([scores], columns=[\n",
    "        \"Train accuracy\", \n",
    "        \"Test accuracy\", \n",
    "        \"Train MattCorrCoef\",\n",
    "        \"Test MattCorrCoef\",\n",
    "    ])\n",
    "    return df"
   ]
  },
  {
   "cell_type": "code",
   "execution_count": 4,
   "id": "e5f6d0b0",
   "metadata": {},
   "outputs": [
    {
     "data": {
      "text/html": [
       "<div>\n",
       "<style scoped>\n",
       "    .dataframe tbody tr th:only-of-type {\n",
       "        vertical-align: middle;\n",
       "    }\n",
       "\n",
       "    .dataframe tbody tr th {\n",
       "        vertical-align: top;\n",
       "    }\n",
       "\n",
       "    .dataframe thead th {\n",
       "        text-align: right;\n",
       "    }\n",
       "</style>\n",
       "<table border=\"1\" class=\"dataframe\">\n",
       "  <thead>\n",
       "    <tr style=\"text-align: right;\">\n",
       "      <th></th>\n",
       "      <th>Train accuracy</th>\n",
       "      <th>Test accuracy</th>\n",
       "      <th>Train MattCorrCoef</th>\n",
       "      <th>Test MattCorrCoef</th>\n",
       "    </tr>\n",
       "  </thead>\n",
       "  <tbody>\n",
       "    <tr>\n",
       "      <th>0</th>\n",
       "      <td>0.960432</td>\n",
       "      <td>0.834532</td>\n",
       "      <td>0.913588</td>\n",
       "      <td>0.626898</td>\n",
       "    </tr>\n",
       "  </tbody>\n",
       "</table>\n",
       "</div>"
      ],
      "text/plain": [
       "   Train accuracy  Test accuracy  Train MattCorrCoef  Test MattCorrCoef\n",
       "0        0.960432       0.834532            0.913588           0.626898"
      ]
     },
     "execution_count": 4,
     "metadata": {},
     "output_type": "execute_result"
    }
   ],
   "source": [
    "ref_scores = score(X_train, y_train, X_test, y_test)\n",
    "ref_scores"
   ]
  },
  {
   "cell_type": "markdown",
   "id": "6690b885",
   "metadata": {},
   "source": [
    "## PCA\n",
    "PCA allows us to determine the number of features or the percentage of explained variance we want to keep. In this case, we will keep 95% of the model's explained variance."
   ]
  },
  {
   "cell_type": "code",
   "execution_count": 5,
   "id": "a3f387d4",
   "metadata": {},
   "outputs": [],
   "source": [
    "from modtox.modtox.ML.selector import _PCA"
   ]
  },
  {
   "cell_type": "code",
   "execution_count": 6,
   "id": "813cbcb6",
   "metadata": {},
   "outputs": [],
   "source": [
    "var = 0.95\n",
    "pca = _PCA(variance=var)\n",
    "fitted_sel = pca.fit_selector(X_train)"
   ]
  },
  {
   "cell_type": "markdown",
   "id": "0e9ea810",
   "metadata": {},
   "source": [
    "We can easily plot the explained variance vs feature number:"
   ]
  },
  {
   "cell_type": "code",
   "execution_count": 7,
   "id": "f7aa8403",
   "metadata": {
    "scrolled": true
   },
   "outputs": [
    {
     "data": {
      "image/png": "[encoded data removed]",
      "text/plain": [
       "<Figure size 432x288 with 1 Axes>"
      ]
     },
     "metadata": {
      "needs_background": "light"
     },
     "output_type": "display_data"
    }
   ],
   "source": [
    "import matplotlib.pyplot as plt\n",
    "import numpy as np\n",
    "\n",
    "x, y = pca.plotting_data()\n",
    "plt.plot(x, y)\n",
    "plt.xlabel(\"Dimensions\")\n",
    "plt.ylabel(\"Explained variance\")\n",
    "plt.ylim(0, 1)\n",
    "plt.xlim(0)\n",
    "plt.grid()\n",
    "d = np.argmax(y >= var) + 1\n",
    "plt.plot([d, d], [0, var], \"k:\")\n",
    "plt.plot([0, d], [var, var], \"k:\")\n",
    "plt.plot(d, var, \"ko\")\n",
    "plt.text(x=d+10, y=var-0.1, s=f\"{d} dimensions for a 0.95\\nratio of explained variance\")\n",
    "plt.savefig(f\"data/{target}/PCA.png\")"
   ]
  },
  {
   "cell_type": "markdown",
   "id": "01bd3e22",
   "metadata": {},
   "source": [
    "To compare the initial model to reduced model:"
   ]
  },
  {
   "cell_type": "code",
   "execution_count": 8,
   "id": "e6c92ded",
   "metadata": {},
   "outputs": [
    {
     "data": {
      "text/html": [
       "<div>\n",
       "<style scoped>\n",
       "    .dataframe tbody tr th:only-of-type {\n",
       "        vertical-align: middle;\n",
       "    }\n",
       "\n",
       "    .dataframe tbody tr th {\n",
       "        vertical-align: top;\n",
       "    }\n",
       "\n",
       "    .dataframe thead th {\n",
       "        text-align: right;\n",
       "    }\n",
       "</style>\n",
       "<table border=\"1\" class=\"dataframe\">\n",
       "  <thead>\n",
       "    <tr style=\"text-align: right;\">\n",
       "      <th></th>\n",
       "      <th>Train accuracy</th>\n",
       "      <th>Test accuracy</th>\n",
       "      <th>Train MattCorrCoef</th>\n",
       "      <th>Test MattCorrCoef</th>\n",
       "    </tr>\n",
       "  </thead>\n",
       "  <tbody>\n",
       "    <tr>\n",
       "      <th>0</th>\n",
       "      <td>0.940647</td>\n",
       "      <td>0.791367</td>\n",
       "      <td>0.868272</td>\n",
       "      <td>0.525619</td>\n",
       "    </tr>\n",
       "  </tbody>\n",
       "</table>\n",
       "</div>"
      ],
      "text/plain": [
       "   Train accuracy  Test accuracy  Train MattCorrCoef  Test MattCorrCoef\n",
       "0        0.940647       0.791367            0.868272           0.525619"
      ]
     },
     "execution_count": 8,
     "metadata": {},
     "output_type": "execute_result"
    }
   ],
   "source": [
    "X_train_reduced = fitted_sel.transform(X_train) \n",
    "X_test_reduced = fitted_sel.transform(X_test)\n",
    "pca_scores = score(X_train_reduced, y_train, X_test_reduced, y_test)\n",
    "pca_scores"
   ]
  },
  {
   "cell_type": "markdown",
   "id": "14f4be7e",
   "metadata": {},
   "source": [
    "The model has not improved, but it has been simplified. Fitting the model is now much faster."
   ]
  },
  {
   "cell_type": "markdown",
   "id": "95ca319a",
   "metadata": {},
   "source": [
    "## RFECV"
   ]
  },
  {
   "cell_type": "code",
   "execution_count": 9,
   "id": "d7ba2b73",
   "metadata": {},
   "outputs": [],
   "source": [
    "from sklearn.feature_selection import RFECV\n",
    "from sklearn.neighbors import KNeighborsClassifier\n",
    "from sklearn.linear_model import LogisticRegression\n",
    "from sklearn.svm import SVC\n",
    "from sklearn.tree import DecisionTreeClassifier\n",
    "from sklearn.naive_bayes import BernoulliNB\n",
    "from sklearn.ensemble import VotingClassifier\n",
    "from sklearn.metrics import accuracy_score, matthews_corrcoef"
   ]
  },
  {
   "cell_type": "code",
   "execution_count": 10,
   "id": "856b476b",
   "metadata": {
    "scrolled": true
   },
   "outputs": [
    {
     "data": {
      "text/plain": [
       "array([0.64928058, 0.65467626, 0.70143885, 0.75539568, 0.75899281,\n",
       "       0.73741007, 0.73021583, 0.75      , 0.74820144, 0.76798561,\n",
       "       0.76438849, 0.76438849, 0.77697842, 0.79496403, 0.78597122,\n",
       "       0.80035971, 0.8057554 , 0.80395683, 0.79676259, 0.80035971,\n",
       "       0.80035971, 0.80035971, 0.80035971, 0.79496403, 0.78956835,\n",
       "       0.79496403, 0.79676259, 0.79136691, 0.79316547, 0.7823741 ,\n",
       "       0.78597122, 0.78956835, 0.78776978, 0.7823741 , 0.78956835,\n",
       "       0.79136691, 0.78956835, 0.79496403, 0.78597122, 0.78417266,\n",
       "       0.78597122, 0.78417266, 0.78776978, 0.79136691, 0.78597122,\n",
       "       0.78597122, 0.78597122, 0.78776978, 0.78597122, 0.78417266,\n",
       "       0.7823741 , 0.78776978, 0.79136691, 0.79496403, 0.79316547,\n",
       "       0.78956835, 0.79316547, 0.79316547, 0.79496403, 0.79496403,\n",
       "       0.78956835, 0.78776978, 0.78597122, 0.79496403, 0.79496403,\n",
       "       0.79676259, 0.80035971, 0.80035971, 0.79856115, 0.79856115,\n",
       "       0.79856115, 0.79496403, 0.79676259, 0.80035971, 0.79676259,\n",
       "       0.79316547, 0.79856115, 0.79316547, 0.79316547, 0.78956835,\n",
       "       0.78956835, 0.78956835, 0.78956835, 0.78956835, 0.78956835,\n",
       "       0.78956835, 0.78956835, 0.79136691, 0.79136691, 0.79136691,\n",
       "       0.79316547, 0.78776978, 0.78956835, 0.79136691, 0.79136691,\n",
       "       0.79136691, 0.79316547, 0.79136691, 0.79136691, 0.79136691,\n",
       "       0.79496403, 0.79316547, 0.79316547, 0.79316547, 0.79316547,\n",
       "       0.79316547, 0.79676259, 0.79316547, 0.79316547, 0.79496403,\n",
       "       0.79316547, 0.79136691, 0.79496403, 0.79856115, 0.79856115,\n",
       "       0.80035971, 0.80035971, 0.79856115, 0.79496403, 0.79676259,\n",
       "       0.79676259, 0.79676259, 0.79676259, 0.80035971, 0.80035971,\n",
       "       0.80215827, 0.80215827, 0.79856115, 0.80215827, 0.80215827,\n",
       "       0.80035971, 0.80395683, 0.80215827, 0.80215827, 0.80035971,\n",
       "       0.80215827, 0.79856115, 0.79856115, 0.80035971, 0.79676259,\n",
       "       0.79676259, 0.79676259, 0.79676259, 0.79676259, 0.79856115,\n",
       "       0.79676259, 0.79856115, 0.79676259, 0.79856115, 0.79676259,\n",
       "       0.79676259, 0.79676259, 0.79676259, 0.80035971, 0.80035971,\n",
       "       0.80035971, 0.80035971, 0.80035971, 0.80035971, 0.79856115,\n",
       "       0.79856115, 0.80035971, 0.80035971, 0.80035971, 0.80035971,\n",
       "       0.80035971, 0.79676259, 0.79676259, 0.79676259, 0.79496403,\n",
       "       0.79676259, 0.79676259, 0.79676259, 0.79676259, 0.79676259,\n",
       "       0.79676259, 0.79676259, 0.79676259, 0.79676259, 0.79676259,\n",
       "       0.80035971, 0.80035971, 0.80035971, 0.80035971, 0.79676259,\n",
       "       0.79676259, 0.79676259, 0.80035971, 0.79676259, 0.79676259,\n",
       "       0.80035971, 0.80035971, 0.80035971, 0.80035971, 0.80035971,\n",
       "       0.80035971, 0.80035971, 0.80035971, 0.80035971, 0.80035971,\n",
       "       0.80035971, 0.80035971, 0.80035971, 0.80035971, 0.80035971,\n",
       "       0.80215827, 0.80035971, 0.80215827, 0.80215827, 0.80035971,\n",
       "       0.80035971, 0.80035971, 0.80035971, 0.80035971, 0.80035971,\n",
       "       0.80035971, 0.80035971, 0.80035971, 0.80035971, 0.80035971,\n",
       "       0.80035971, 0.80035971, 0.80035971, 0.80035971, 0.80035971,\n",
       "       0.80035971, 0.80035971, 0.80035971, 0.80035971, 0.80035971,\n",
       "       0.80035971, 0.80035971, 0.80035971, 0.80035971, 0.80035971,\n",
       "       0.80035971, 0.80035971, 0.80215827, 0.80215827, 0.80215827,\n",
       "       0.80215827, 0.80215827, 0.80215827, 0.80215827, 0.80035971,\n",
       "       0.80215827, 0.80215827, 0.80215827, 0.80215827, 0.80215827,\n",
       "       0.80215827, 0.80215827, 0.80215827, 0.80215827, 0.80215827,\n",
       "       0.80215827, 0.80215827, 0.80035971, 0.80035971, 0.80215827,\n",
       "       0.80215827, 0.80215827, 0.80215827, 0.80215827, 0.80215827,\n",
       "       0.80215827, 0.80215827, 0.80215827, 0.80215827, 0.80215827,\n",
       "       0.80215827, 0.80215827, 0.80215827, 0.80215827, 0.80215827,\n",
       "       0.80215827, 0.80215827, 0.80215827, 0.80215827, 0.80215827,\n",
       "       0.80215827, 0.80215827, 0.80395683, 0.80215827, 0.80215827,\n",
       "       0.80215827, 0.80215827, 0.80215827, 0.80215827, 0.80215827,\n",
       "       0.80215827, 0.80215827, 0.80215827, 0.80215827, 0.80215827,\n",
       "       0.80215827, 0.80215827, 0.80215827, 0.80215827, 0.80215827,\n",
       "       0.80215827, 0.80395683, 0.80215827, 0.80215827, 0.80215827,\n",
       "       0.80215827, 0.80215827, 0.80215827, 0.80215827, 0.80215827,\n",
       "       0.80215827, 0.80215827, 0.80215827, 0.80215827, 0.80215827,\n",
       "       0.80215827, 0.80215827, 0.80215827, 0.80215827, 0.80215827,\n",
       "       0.80215827, 0.80215827, 0.80215827, 0.80215827, 0.80215827,\n",
       "       0.80215827, 0.80215827, 0.80215827, 0.80215827, 0.80215827,\n",
       "       0.80215827, 0.80215827, 0.80215827, 0.80215827, 0.80215827,\n",
       "       0.80215827, 0.80215827, 0.80215827, 0.80215827, 0.80215827,\n",
       "       0.80215827, 0.80215827, 0.80215827, 0.80215827, 0.80215827,\n",
       "       0.80215827, 0.80215827, 0.80215827, 0.80215827, 0.80215827,\n",
       "       0.80215827, 0.80215827, 0.80215827, 0.80215827, 0.80215827,\n",
       "       0.80215827, 0.80215827, 0.80215827, 0.80215827, 0.80215827,\n",
       "       0.80215827, 0.80215827, 0.80215827, 0.80215827, 0.80215827,\n",
       "       0.80215827, 0.80035971, 0.80035971, 0.80035971, 0.80035971,\n",
       "       0.80035971, 0.80035971, 0.80035971, 0.80035971, 0.80035971,\n",
       "       0.80035971, 0.80035971, 0.80035971, 0.80035971, 0.80035971,\n",
       "       0.80035971, 0.80035971, 0.80035971, 0.80035971, 0.80035971,\n",
       "       0.80035971, 0.80035971, 0.80035971, 0.80035971, 0.80035971,\n",
       "       0.80035971, 0.80035971, 0.80035971, 0.80035971, 0.80035971,\n",
       "       0.80035971, 0.80035971, 0.80035971, 0.80035971, 0.80035971,\n",
       "       0.80035971, 0.80035971, 0.80035971, 0.80035971, 0.80035971,\n",
       "       0.80035971, 0.80035971, 0.80035971, 0.80035971, 0.80035971,\n",
       "       0.80035971, 0.80035971, 0.80035971, 0.80035971, 0.80035971,\n",
       "       0.80035971, 0.80035971, 0.80035971, 0.80035971, 0.80035971,\n",
       "       0.80035971, 0.80035971, 0.80035971, 0.80035971, 0.80035971,\n",
       "       0.80035971, 0.80035971, 0.80035971, 0.80035971, 0.80035971,\n",
       "       0.80035971, 0.80035971, 0.80035971, 0.80035971, 0.80035971,\n",
       "       0.80035971, 0.80035971, 0.80035971, 0.80035971, 0.80035971,\n",
       "       0.80035971, 0.80035971, 0.80035971, 0.80035971, 0.80035971,\n",
       "       0.80035971, 0.80035971, 0.80035971, 0.80035971, 0.80035971,\n",
       "       0.80035971, 0.80035971, 0.80035971, 0.80035971, 0.80035971,\n",
       "       0.80035971, 0.80035971, 0.80035971, 0.80035971, 0.80035971,\n",
       "       0.80035971, 0.80035971, 0.80035971, 0.80035971, 0.80035971,\n",
       "       0.80035971, 0.80035971, 0.80035971, 0.80035971, 0.80035971])"
      ]
     },
     "execution_count": 10,
     "metadata": {},
     "output_type": "execute_result"
    }
   ],
   "source": [
    "step = 10\n",
    "sel = RFECV(estimator=SVC(kernel=\"linear\"), cv=2, step=10, scoring=\"accuracy\", min_features_to_select=1)\n",
    "sel.fit(X_train, y_train)\n",
    "sel.grid_scores_"
   ]
  },
  {
   "cell_type": "code",
   "execution_count": 66,
   "id": "9f1c5691",
   "metadata": {},
   "outputs": [
    {
     "data": {
      "image/png": "[encoded data removed]",
      "text/plain": [
       "<Figure size 1080x360 with 2 Axes>"
      ]
     },
     "metadata": {
      "needs_background": "light"
     },
     "output_type": "display_data"
    }
   ],
   "source": [
    "import numpy as np\n",
    "import matplotlib.pyplot as plt\n",
    "y = sel.grid_scores_\n",
    "x = [x*10 for x in list(range(1, len(y) + 1))]\n",
    "xmax = x[np.argmax(y)]\n",
    "ymax = y.max()\n",
    "\n",
    "fig, axs = plt.subplots(1, 2, figsize=(15,5))\n",
    "axs[0].set_xlabel(\"Number of features selected\")\n",
    "axs[0].set_xlim(0, len(x*10))\n",
    "axs[0].set_ylabel(\"Cross validation score (accuracy)\")\n",
    "axs[0].grid()\n",
    "axs[0].plot(x, y)\n",
    "\n",
    "axs[1].set_xlabel(\"Number of features selected\")\n",
    "axs[1].set_xlim(0, xmax+100)\n",
    "axs[1].set_ylim(0.7, 0.82)\n",
    "axs[1].set_ylabel(\"Cross validation score (accuracy)\")\n",
    "axs[1].plot(x, y)\n",
    "\n",
    "bbox_props = dict(boxstyle=\"square,pad=0.3\", fc=\"w\", ec=\"k\", lw=0.72)\n",
    "arrowprops = dict(\n",
    "    arrowstyle=\"->\", connectionstyle=\"angle,angleA=0,angleB=60\"\n",
    ")\n",
    "kw = dict(\n",
    "    xycoords=\"data\",\n",
    "    textcoords=\"axes fraction\",\n",
    "    arrowprops=arrowprops,\n",
    "    bbox=bbox_props,\n",
    "    ha=\"right\",\n",
    "    va=\"top\",\n",
    "    fontsize=\"18\"\n",
    ")\n",
    "text = f\"Accuracy: {ymax:.3f} at {xmax} features \"\n",
    "plt.annotate(text, xy=(xmax, ymax), xytext=(0.96, 0.2), **kw)\n",
    "plt.grid()\n",
    "plt.savefig(f\"data/{target}/RFECV.png\")"
   ]
  },
  {
   "cell_type": "code",
   "execution_count": 12,
   "id": "e6d94571",
   "metadata": {},
   "outputs": [],
   "source": [
    "import pickle5\n",
    "with open(f\"data/{target}/fitted_RFECV_step{step}.pickle\", \"wb\") as f:\n",
    "    pickle5.dump(sel, f)"
   ]
  },
  {
   "cell_type": "code",
   "execution_count": 59,
   "id": "391c0b59",
   "metadata": {},
   "outputs": [],
   "source": [
    "with open(f\"data/{target}/fitted_RFECV_step{step}.pickle\", \"rb\") as f:\n",
    "    sel = pickle5.load(f)"
   ]
  },
  {
   "cell_type": "code",
   "execution_count": 48,
   "id": "71e5c44a",
   "metadata": {},
   "outputs": [],
   "source": [
    "mask = sel.get_support()\n",
    "selected_features = [col for i, col in enumerate(X_train.columns) if mask[i] == True]\n",
    "count = dict()\n",
    "\n",
    "for ft in [\"topo\", \"morgan\", \"mordred\"]:\n",
    "    count[ft] = sum([True for col in selected_features if col.startswith(ft)])"
   ]
  },
  {
   "cell_type": "code",
   "execution_count": 49,
   "id": "54185342",
   "metadata": {},
   "outputs": [
    {
     "data": {
      "image/png": "[encoded data removed]",
      "text/plain": [
       "<Figure size 432x288 with 1 Axes>"
      ]
     },
     "metadata": {},
     "output_type": "display_data"
    }
   ],
   "source": [
    "values = list(count.values())\n",
    "labels = [\"Topological fingerprints\", \"Morgan finderprints\", \"Mordred descriptors\"]\n",
    "plt.pie(values, labels=labels, startangle=90, autopct='%1.1f%%', textprops={'fontsize': 14})\n",
    "plt.tight_layout()\n",
    "plt.savefig(f\"data/{target}/selected_features.png\")"
   ]
  },
  {
   "cell_type": "code",
   "execution_count": 15,
   "id": "e7380cd3",
   "metadata": {},
   "outputs": [
    {
     "data": {
      "text/html": [
       "<div>\n",
       "<style scoped>\n",
       "    .dataframe tbody tr th:only-of-type {\n",
       "        vertical-align: middle;\n",
       "    }\n",
       "\n",
       "    .dataframe tbody tr th {\n",
       "        vertical-align: top;\n",
       "    }\n",
       "\n",
       "    .dataframe thead th {\n",
       "        text-align: right;\n",
       "    }\n",
       "</style>\n",
       "<table border=\"1\" class=\"dataframe\">\n",
       "  <thead>\n",
       "    <tr style=\"text-align: right;\">\n",
       "      <th></th>\n",
       "      <th>Train accuracy</th>\n",
       "      <th>Test accuracy</th>\n",
       "      <th>Train MattCorrCoef</th>\n",
       "      <th>Test MattCorrCoef</th>\n",
       "    </tr>\n",
       "  </thead>\n",
       "  <tbody>\n",
       "    <tr>\n",
       "      <th>0</th>\n",
       "      <td>0.969424</td>\n",
       "      <td>0.827338</td>\n",
       "      <td>0.932468</td>\n",
       "      <td>0.607838</td>\n",
       "    </tr>\n",
       "  </tbody>\n",
       "</table>\n",
       "</div>"
      ],
      "text/plain": [
       "   Train accuracy  Test accuracy  Train MattCorrCoef  Test MattCorrCoef\n",
       "0        0.969424       0.827338            0.932468           0.607838"
      ]
     },
     "execution_count": 15,
     "metadata": {},
     "output_type": "execute_result"
    }
   ],
   "source": [
    "X_train_reduced = sel.transform(X_train) \n",
    "X_test_reduced = sel.transform(X_test)\n",
    "rfecv_scores = score(X_train_reduced, y_train, X_test_reduced, y_test)\n",
    "rfecv_scores"
   ]
  },
  {
   "cell_type": "markdown",
   "id": "518c1030",
   "metadata": {},
   "source": [
    "## Method comparsion"
   ]
  },
  {
   "cell_type": "code",
   "execution_count": 16,
   "id": "6b3aba0f",
   "metadata": {},
   "outputs": [
    {
     "data": {
      "text/html": [
       "<div>\n",
       "<style scoped>\n",
       "    .dataframe tbody tr th:only-of-type {\n",
       "        vertical-align: middle;\n",
       "    }\n",
       "\n",
       "    .dataframe tbody tr th {\n",
       "        vertical-align: top;\n",
       "    }\n",
       "\n",
       "    .dataframe thead th {\n",
       "        text-align: right;\n",
       "    }\n",
       "</style>\n",
       "<table border=\"1\" class=\"dataframe\">\n",
       "  <thead>\n",
       "    <tr style=\"text-align: right;\">\n",
       "      <th></th>\n",
       "      <th>Train accuracy</th>\n",
       "      <th>Test accuracy</th>\n",
       "      <th>Train MattCorrCoef</th>\n",
       "      <th>Test MattCorrCoef</th>\n",
       "      <th>method</th>\n",
       "    </tr>\n",
       "  </thead>\n",
       "  <tbody>\n",
       "    <tr>\n",
       "      <th>0</th>\n",
       "      <td>0.960432</td>\n",
       "      <td>0.834532</td>\n",
       "      <td>0.913588</td>\n",
       "      <td>0.626898</td>\n",
       "      <td>none</td>\n",
       "    </tr>\n",
       "    <tr>\n",
       "      <th>0</th>\n",
       "      <td>0.940647</td>\n",
       "      <td>0.791367</td>\n",
       "      <td>0.868272</td>\n",
       "      <td>0.525619</td>\n",
       "      <td>PCA</td>\n",
       "    </tr>\n",
       "    <tr>\n",
       "      <th>0</th>\n",
       "      <td>0.969424</td>\n",
       "      <td>0.827338</td>\n",
       "      <td>0.932468</td>\n",
       "      <td>0.607838</td>\n",
       "      <td>RFECV</td>\n",
       "    </tr>\n",
       "  </tbody>\n",
       "</table>\n",
       "</div>"
      ],
      "text/plain": [
       "   Train accuracy  Test accuracy  Train MattCorrCoef  Test MattCorrCoef method\n",
       "0        0.960432       0.834532            0.913588           0.626898   none\n",
       "0        0.940647       0.791367            0.868272           0.525619    PCA\n",
       "0        0.969424       0.827338            0.932468           0.607838  RFECV"
      ]
     },
     "execution_count": 16,
     "metadata": {},
     "output_type": "execute_result"
    }
   ],
   "source": [
    "sc = ref_scores.append(pca_scores)\n",
    "sc = sc.append(rfecv_scores)\n",
    "sc[\"method\"] = [\"none\", \"PCA\", \"RFECV\"]\n",
    "sc.to_csv(f\"data/{target}/dim_red.csv\")\n",
    "sc"
   ]
  },
  {
   "cell_type": "code",
   "execution_count": 17,
   "id": "81a9e6d8",
   "metadata": {},
   "outputs": [
    {
     "data": {
      "image/png": "[encoded data removed]",
      "text/plain": [
       "<Figure size 432x288 with 1 Axes>"
      ]
     },
     "metadata": {
      "needs_background": "light"
     },
     "output_type": "display_data"
    }
   ],
   "source": [
    "acc = sc[[\"method\", \"Train accuracy\", \"Test accuracy\"]]\n",
    "ax = acc.plot(\n",
    "    x=\"method\", \n",
    "    marker=\"o\", \n",
    "    linestyle=\"--\", \n",
    "    xlim=(-1, 3), \n",
    "    xticks=[0, 1, 2, 3, 4], \n",
    "    xlabel=\"Method\", \n",
    "    ylabel=\"Accuracy\"\n",
    ")\n",
    "ax.legend([\"Train\", \"Test\"])\n",
    "ax.grid(axis=\"y\")\n",
    "for i, met in enumerate([\"none\", \"PCA\", \"RFECV\"]):\n",
    "    test = sc[sc[\"method\"] == met][\"Test accuracy\"]\n",
    "    train = sc[sc[\"method\"] == met][\"Train accuracy\"]\n",
    "    diff = float(train-test)\n",
    "    ax.vlines(x=i, ymin=test, ymax=train, color=\"gray\", linestyle=\"--\")\n",
    "    ax.text(x=i+0.1, y=test + diff/2, s=f\"∆ = {diff:.2f}\")\n",
    "plt.savefig(f\"data/{target}/dim_red.png\")"
   ]
  }
 ],
 "metadata": {
  "kernelspec": {
   "display_name": "Python 3",
   "language": "python",
   "name": "python3"
  },
  "language_info": {
   "codemirror_mode": {
    "name": "ipython",
    "version": 3
   },
   "file_extension": ".py",
   "mimetype": "text/x-python",
   "name": "python",
   "nbconvert_exporter": "python",
   "pygments_lexer": "ipython3",
   "version": "3.6.13"
  }
 },
 "nbformat": 4,
 "nbformat_minor": 5
}
