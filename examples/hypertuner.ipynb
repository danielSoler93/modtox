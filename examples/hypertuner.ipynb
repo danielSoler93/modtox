{
 "cells": [
  {
   "cell_type": "markdown",
   "id": "5fe602d9",
   "metadata": {},
   "source": [
    "## `modtox.Hypertuner`"
   ]
  },
  {
   "cell_type": "code",
   "execution_count": 1,
   "id": "b95882a4",
   "metadata": {},
   "outputs": [],
   "source": [
    "import pandas as pd\n",
    "import os\n",
    "\n",
    "from modtox.modtox.ML.dataset import DataSet\n",
    "target = \"3ai8\"\n",
    "csv = os.path.join(os.path.abspath(\"\"), \"data\", target,\"mordred_topo_morgan.csv\")\n",
    "df = pd.read_csv(csv, index_col=0)\n",
    "import warnings\n",
    "warnings.filterwarnings('ignore')  # Ignore pandas warnings in output (copy/slice)\n",
    "\n",
    "ds = DataSet(df)\n",
    "dfs = ds.transform(outliers_threshold=0, resampling_method=\"oversampling\", scaling_method=\"standarize\")"
   ]
  },
  {
   "cell_type": "code",
   "execution_count": 2,
   "id": "8d4f16c5",
   "metadata": {
    "scrolled": true
   },
   "outputs": [],
   "source": [
    "import pickle5\n",
    "with open(f\"data/{target}/fitted_RFECV_step10.pickle\", \"rb\") as f:\n",
    "    fitted_sel = pickle5.load(f)\n",
    "X_train_red = fitted_sel.transform(dfs[\"X_train\"])\n",
    "X_test_red = fitted_sel.transform(dfs[\"X_test\"])"
   ]
  },
  {
   "cell_type": "markdown",
   "id": "02354941",
   "metadata": {},
   "source": [
    "## Ref score (\"none\")"
   ]
  },
  {
   "cell_type": "code",
   "execution_count": 3,
   "id": "cc5c513f",
   "metadata": {},
   "outputs": [],
   "source": [
    "from sklearn.neighbors import KNeighborsClassifier\n",
    "from sklearn.linear_model import LogisticRegression\n",
    "from sklearn.svm import SVC\n",
    "from sklearn.tree import DecisionTreeClassifier\n",
    "from sklearn.naive_bayes import BernoulliNB\n",
    "from sklearn.ensemble import VotingClassifier\n",
    "from sklearn.metrics import accuracy_score, matthews_corrcoef\n",
    "\n",
    "y_test, y_train = dfs[\"y_test\"], dfs[\"y_train\"]\n",
    "\n",
    "clf = VotingClassifier(estimators=[\n",
    "    (\"knn\", KNeighborsClassifier()),\n",
    "    (\"lr\", LogisticRegression()),\n",
    "    (\"svc\", SVC()),\n",
    "    (\"tree\", DecisionTreeClassifier()),\n",
    "    (\"nb\", BernoulliNB())\n",
    "])\n",
    "\n",
    "fitted_clf = clf.fit(X_train_red, y_train)\n",
    "\n",
    "y_pred_train = fitted_clf.predict(X_train_red)\n",
    "ref_acc_train = accuracy_score(y_train, y_pred_train)\n",
    "ref_matt_train = matthews_corrcoef(y_train, y_pred_train)\n",
    "\n",
    "y_pred_test = fitted_clf.predict(X_test_red)\n",
    "ref_acc_test = accuracy_score(y_test, y_pred_test)\n",
    "ref_matt_test = matthews_corrcoef(y_test, y_pred_test)\n",
    "\n",
    "ref_scores = [ref_acc_train, ref_acc_test, ref_matt_train, ref_matt_test]"
   ]
  },
  {
   "cell_type": "markdown",
   "id": "f931b1d1",
   "metadata": {},
   "source": [
    "## GridHalvingSearch\n",
    "### Accuracy"
   ]
  },
  {
   "cell_type": "code",
   "execution_count": 4,
   "id": "2aee4b75",
   "metadata": {},
   "outputs": [],
   "source": [
    "from modtox.modtox.ML.tuning import GridHalvingSearch\n",
    "from sklearn.metrics import accuracy_score"
   ]
  },
  {
   "cell_type": "code",
   "execution_count": 5,
   "id": "ca014b7b",
   "metadata": {},
   "outputs": [],
   "source": [
    "tuner = GridHalvingSearch(X_train_red, dfs[\"y_train\"], scoring=accuracy_score)\n",
    "fitted_clf,  grid_acc_train = tuner.search()"
   ]
  },
  {
   "cell_type": "code",
   "execution_count": 6,
   "id": "fba1f985",
   "metadata": {},
   "outputs": [],
   "source": [
    "y_pred = fitted_clf.predict(X_test_red)\n",
    "grid_acc_test = accuracy_score(dfs[\"y_test\"], y_pred)"
   ]
  },
  {
   "cell_type": "markdown",
   "id": "c57494ca",
   "metadata": {},
   "source": [
    "### Matthews"
   ]
  },
  {
   "cell_type": "code",
   "execution_count": 7,
   "id": "167472a6",
   "metadata": {},
   "outputs": [],
   "source": [
    "from sklearn.metrics import matthews_corrcoef"
   ]
  },
  {
   "cell_type": "code",
   "execution_count": 8,
   "id": "16b63833",
   "metadata": {},
   "outputs": [],
   "source": [
    "tuner = GridHalvingSearch(X_train_red, dfs[\"y_train\"], scoring=matthews_corrcoef)\n",
    "fitted_clf,  grid_matt_train = tuner.search()"
   ]
  },
  {
   "cell_type": "code",
   "execution_count": 9,
   "id": "e3d31e7d",
   "metadata": {},
   "outputs": [],
   "source": [
    "y_pred = fitted_clf.predict(X_test_red)\n",
    "grid_matt_test = matthews_corrcoef(dfs[\"y_test\"], y_pred)"
   ]
  },
  {
   "cell_type": "markdown",
   "id": "a8ec3264",
   "metadata": {},
   "source": [
    "## RandomHalvingSearch\n",
    "### Accuracy"
   ]
  },
  {
   "cell_type": "code",
   "execution_count": 10,
   "id": "1c8e650e",
   "metadata": {},
   "outputs": [],
   "source": [
    "from modtox.modtox.ML.tuning import RandomHalvingSearch\n",
    "tuner = RandomHalvingSearch(X_train_red, dfs[\"y_train\"], scoring=accuracy_score)\n",
    "fitted_clf, train_scores = tuner.search()\n",
    "rand_acc_train = train_scores[\"VotingClassifier\"]\n",
    "y_pred = fitted_clf.predict(X_test_red)\n",
    "rand_acc_test = accuracy_score(dfs[\"y_test\"], y_pred)"
   ]
  },
  {
   "cell_type": "markdown",
   "id": "d8418821",
   "metadata": {},
   "source": [
    "### Matthews"
   ]
  },
  {
   "cell_type": "code",
   "execution_count": 11,
   "id": "58b7d0a5",
   "metadata": {},
   "outputs": [],
   "source": [
    "tuner = RandomHalvingSearch(X_train_red, dfs[\"y_train\"], scoring=matthews_corrcoef)\n",
    "fitted_clf, train_scores = tuner.search()\n",
    "rand_matt_train = train_scores[\"VotingClassifier\"]\n",
    "y_pred = fitted_clf.predict(X_test_red)\n",
    "rand_matt_test = accuracy_score(dfs[\"y_test\"], y_pred)"
   ]
  },
  {
   "cell_type": "markdown",
   "id": "53c451fa",
   "metadata": {},
   "source": [
    "## Plotting"
   ]
  },
  {
   "cell_type": "code",
   "execution_count": 12,
   "id": "757d3eeb",
   "metadata": {},
   "outputs": [
    {
     "data": {
      "text/html": [
       "<div>\n",
       "<style scoped>\n",
       "    .dataframe tbody tr th:only-of-type {\n",
       "        vertical-align: middle;\n",
       "    }\n",
       "\n",
       "    .dataframe tbody tr th {\n",
       "        vertical-align: top;\n",
       "    }\n",
       "\n",
       "    .dataframe thead th {\n",
       "        text-align: right;\n",
       "    }\n",
       "</style>\n",
       "<table border=\"1\" class=\"dataframe\">\n",
       "  <thead>\n",
       "    <tr style=\"text-align: right;\">\n",
       "      <th></th>\n",
       "      <th>train_acc</th>\n",
       "      <th>test_acc</th>\n",
       "      <th>train_matt</th>\n",
       "      <th>test_matt</th>\n",
       "      <th>halving</th>\n",
       "    </tr>\n",
       "  </thead>\n",
       "  <tbody>\n",
       "    <tr>\n",
       "      <th>0</th>\n",
       "      <td>0.976584</td>\n",
       "      <td>0.841727</td>\n",
       "      <td>0.953461</td>\n",
       "      <td>0.642418</td>\n",
       "      <td>none</td>\n",
       "    </tr>\n",
       "    <tr>\n",
       "      <th>1</th>\n",
       "      <td>0.877410</td>\n",
       "      <td>0.726619</td>\n",
       "      <td>0.877410</td>\n",
       "      <td>0.488635</td>\n",
       "      <td>grid</td>\n",
       "    </tr>\n",
       "    <tr>\n",
       "      <th>2</th>\n",
       "      <td>0.994490</td>\n",
       "      <td>0.784173</td>\n",
       "      <td>0.994490</td>\n",
       "      <td>0.784173</td>\n",
       "      <td>random</td>\n",
       "    </tr>\n",
       "  </tbody>\n",
       "</table>\n",
       "</div>"
      ],
      "text/plain": [
       "   train_acc  test_acc  train_matt  test_matt halving\n",
       "0   0.976584  0.841727    0.953461   0.642418    none\n",
       "1   0.877410  0.726619    0.877410   0.488635    grid\n",
       "2   0.994490  0.784173    0.994490   0.784173  random"
      ]
     },
     "execution_count": 12,
     "metadata": {},
     "output_type": "execute_result"
    }
   ],
   "source": [
    "grid_scores = [\n",
    "    grid_acc_train[\"VotingClassifier\"],\n",
    "    grid_acc_test,\n",
    "    grid_matt_train[\"VotingClassifier\"],\n",
    "    grid_matt_test,\n",
    "]\n",
    "\n",
    "rand_scores = [\n",
    "    rand_acc_train,\n",
    "    rand_acc_test,\n",
    "    rand_matt_train,\n",
    "    rand_matt_test,\n",
    "]\n",
    "\n",
    "df = pd.DataFrame([ref_scores, grid_scores, rand_scores], columns=[\"train_acc\", \"test_acc\", \"train_matt\", \"test_matt\"])\n",
    "df[\"halving\"] = [\"none\", \"grid\", \"random\"]\n",
    "df.to_csv(f\"data/{target}/tuning.csv\")\n",
    "df"
   ]
  },
  {
   "cell_type": "code",
   "execution_count": 13,
   "id": "9719f376",
   "metadata": {},
   "outputs": [
    {
     "data": {
      "image/png": "[encoded data removed]",
      "text/plain": [
       "<Figure size 1080x360 with 2 Axes>"
      ]
     },
     "metadata": {
      "needs_background": "light"
     },
     "output_type": "display_data"
    }
   ],
   "source": [
    "import matplotlib.pyplot as plt\n",
    "fig, axs = plt.subplots(1, 2, figsize=(15, 5))\n",
    "\n",
    "sc = df[[\"halving\", \"train_acc\", \"test_acc\"]]\n",
    "sc.plot(\n",
    "    x=\"halving\", \n",
    "    marker=\"o\", \n",
    "    linestyle=\"--\", \n",
    "    xlim=(-1, 3), \n",
    "    xticks=[0, 1, 2, 3, 4], \n",
    "    xlabel=\"Search strategy\", \n",
    "    ylabel=\"Accuracy\",\n",
    "    ax=axs[0]\n",
    ")\n",
    "axs[0].legend([\"Train\", \"Test\"])\n",
    "axs[0].grid(axis=\"y\")\n",
    "for i, met in enumerate([\"none\", \"grid\", \"random\"]):\n",
    "    test = sc[sc[\"halving\"] == met][\"test_acc\"]\n",
    "    train = sc[sc[\"halving\"] == met][\"train_acc\"]\n",
    "    diff = float(train-test)\n",
    "    axs[0].vlines(x=i, ymin=test, ymax=train, color=\"gray\", linestyle=\"--\")\n",
    "    axs[0].text(x=i+0.1, y=test + diff/2, s=f\"∆ = {diff:.2f}\")\n",
    "\n",
    "sc = df[[\"halving\", \"train_matt\", \"test_matt\"]]\n",
    "sc.plot(\n",
    "    x=\"halving\", \n",
    "    marker=\"o\", \n",
    "    linestyle=\"--\", \n",
    "    xlim=(-1, 3), \n",
    "    xticks=[0, 1, 2, 3, 4], \n",
    "    xlabel=\"Search strategy\", \n",
    "    ylabel=\"Matthews correlation coefficient\",\n",
    "    ax=axs[1]\n",
    ")\n",
    "axs[1].legend([\"Train\", \"Test\"])\n",
    "axs[1].grid(axis=\"y\")\n",
    "for i, met in enumerate([\"none\", \"grid\", \"random\"]):\n",
    "    test = sc[sc[\"halving\"] == met][\"test_matt\"]\n",
    "    train = sc[sc[\"halving\"] == met][\"train_matt\"]\n",
    "    diff = float(train-test)\n",
    "    axs[1].vlines(x=i, ymin=test, ymax=train, color=\"gray\", linestyle=\"--\")\n",
    "    axs[1].text(x=i+0.1, y=test + diff/2, s=f\"∆ = {diff:.2f}\")\n",
    "plt.savefig(f\"data/{target}/tuning.png\")"
   ]
  }
 ],
 "metadata": {
  "kernelspec": {
   "display_name": "Python 3",
   "language": "python",
   "name": "python3"
  },
  "language_info": {
   "codemirror_mode": {
    "name": "ipython",
    "version": 3
   },
   "file_extension": ".py",
   "mimetype": "text/x-python",
   "name": "python",
   "nbconvert_exporter": "python",
   "pygments_lexer": "ipython3",
   "version": "3.6.13"
  }
 },
 "nbformat": 4,
 "nbformat_minor": 5
}
