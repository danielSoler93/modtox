{
 "cells": [
  {
   "cell_type": "code",
   "execution_count": 1,
   "id": "c7f55684",
   "metadata": {},
   "outputs": [],
   "source": [
    "target = \"3ai8\""
   ]
  },
  {
   "cell_type": "code",
   "execution_count": 2,
   "id": "b62126ff",
   "metadata": {},
   "outputs": [],
   "source": [
    "import pandas as pd\n",
    "pre = pd.read_csv(f\"data/{target}/preprocessing.csv\", index_col=0)\n",
    "dim_red = pd.read_csv(f\"data/{target}/dim_red.csv\", index_col=0)\n",
    "tuning = pd.read_csv(f\"data/{target}/tuning.csv\", index_col=0)"
   ]
  },
  {
   "cell_type": "code",
   "execution_count": 3,
   "id": "fae4115e",
   "metadata": {},
   "outputs": [],
   "source": [
    "ref = pre[(pre.out_threshold == 0) & (pre.resampling == \"none\") & (pre.scaling == \"none\")]\n",
    "ref_train_acc = ref.acc_train.iloc[0]\n",
    "ref_test_acc = ref.acc_test.iloc[0]"
   ]
  },
  {
   "cell_type": "code",
   "execution_count": 4,
   "id": "6532cb7e",
   "metadata": {},
   "outputs": [],
   "source": [
    "best_pre = pre.sort_values(\"acc_test\", ascending=False).iloc[0]\n",
    "out = best_pre.out_threshold\n",
    "rsmp = best_pre.resampling\n",
    "scl = best_pre.scaling\n",
    "pre_train_acc = best_pre.acc_train\n",
    "pre_test_acc = best_pre.acc_test"
   ]
  },
  {
   "cell_type": "code",
   "execution_count": 5,
   "id": "5da34476",
   "metadata": {},
   "outputs": [],
   "source": [
    "best_red = dim_red.sort_values(\"Test accuracy\", ascending=False).iloc[0]\n",
    "dim = best_red.method\n",
    "red_train_acc = best_red[\"Train accuracy\"]\n",
    "red_test_acc = best_red[\"Test accuracy\"]"
   ]
  },
  {
   "cell_type": "code",
   "execution_count": 6,
   "id": "d18943b5",
   "metadata": {},
   "outputs": [],
   "source": [
    "best_tun = tuning.sort_values(\"test_acc\", ascending=False).iloc[0]\n",
    "tun = best_tun.halving\n",
    "tun_train_acc = best_tun.train_acc \n",
    "tun_test_acc = best_tun.test_acc"
   ]
  },
  {
   "cell_type": "code",
   "execution_count": 7,
   "id": "216756cd",
   "metadata": {},
   "outputs": [
    {
     "data": {
      "text/html": [
       "<div>\n",
       "<style scoped>\n",
       "    .dataframe tbody tr th:only-of-type {\n",
       "        vertical-align: middle;\n",
       "    }\n",
       "\n",
       "    .dataframe tbody tr th {\n",
       "        vertical-align: top;\n",
       "    }\n",
       "\n",
       "    .dataframe thead th {\n",
       "        text-align: right;\n",
       "    }\n",
       "</style>\n",
       "<table border=\"1\" class=\"dataframe\">\n",
       "  <thead>\n",
       "    <tr style=\"text-align: right;\">\n",
       "      <th></th>\n",
       "      <th>stage</th>\n",
       "      <th>train</th>\n",
       "      <th>test</th>\n",
       "    </tr>\n",
       "  </thead>\n",
       "  <tbody>\n",
       "    <tr>\n",
       "      <th>0</th>\n",
       "      <td>reference</td>\n",
       "      <td>0.895683</td>\n",
       "      <td>0.712230</td>\n",
       "    </tr>\n",
       "    <tr>\n",
       "      <th>1</th>\n",
       "      <td>preprocessing</td>\n",
       "      <td>0.960432</td>\n",
       "      <td>0.841727</td>\n",
       "    </tr>\n",
       "    <tr>\n",
       "      <th>2</th>\n",
       "      <td>reduction</td>\n",
       "      <td>0.960432</td>\n",
       "      <td>0.834532</td>\n",
       "    </tr>\n",
       "    <tr>\n",
       "      <th>3</th>\n",
       "      <td>tuning</td>\n",
       "      <td>0.976584</td>\n",
       "      <td>0.841727</td>\n",
       "    </tr>\n",
       "  </tbody>\n",
       "</table>\n",
       "</div>"
      ],
      "text/plain": [
       "           stage     train      test\n",
       "0      reference  0.895683  0.712230\n",
       "1  preprocessing  0.960432  0.841727\n",
       "2      reduction  0.960432  0.834532\n",
       "3         tuning  0.976584  0.841727"
      ]
     },
     "execution_count": 7,
     "metadata": {},
     "output_type": "execute_result"
    }
   ],
   "source": [
    "train = [ref_train_acc, pre_train_acc, red_train_acc, tun_train_acc]\n",
    "test = [ref_test_acc, pre_test_acc, red_test_acc, tun_test_acc]\n",
    "df = pd.DataFrame([train, test], columns=[\"reference\", \"preprocessing\", \"reduction\", \"tuning\"])\n",
    "df[\"set\"] = [\"Train\", \"Test\"]\n",
    "df = df.set_index(\"set\")\n",
    "df = df.transpose()\n",
    "df = df.reset_index()\n",
    "df.columns = [\"stage\", \"train\", \"test\"]\n",
    "df"
   ]
  },
  {
   "cell_type": "code",
   "execution_count": 8,
   "id": "07646417",
   "metadata": {},
   "outputs": [
    {
     "data": {
      "image/png": "[encoded data removed]",
      "text/plain": [
       "<Figure size 432x288 with 1 Axes>"
      ]
     },
     "metadata": {
      "needs_background": "light"
     },
     "output_type": "display_data"
    }
   ],
   "source": [
    "import matplotlib.pyplot as plt\n",
    "ax = df.plot(\n",
    "    x=\"stage\", \n",
    "    marker=\"o\", \n",
    "    linestyle=\"--\", \n",
    "    xlim=(-1, 4), \n",
    "    xticks=[0, 1, 2, 3, 4, 5], \n",
    "    xlabel=\"Method\", \n",
    "    ylabel=\"Accuracy\"\n",
    ")\n",
    "ax.legend([\"Train\", \"Test\"], loc=\"lower right\")\n",
    "ax.grid(axis=\"y\")\n",
    "for i, met in enumerate([\"reference\", \"preprocessing\", \"reduction\", \"tuning\"]):\n",
    "    test = df[df[\"stage\"] == met][\"test\"]\n",
    "    train = df[df[\"stage\"] == met][\"train\"]\n",
    "    diff = float(train-test)\n",
    "    ax.vlines(x=i, ymin=test, ymax=train, color=\"gray\", linestyle=\"--\")\n",
    "    ax.text(x=i+0.1, y=test + diff/2, s=f\"∆ = {diff:.2f}\")\n",
    "plt.savefig(f\"data/{target}/stages.png\")"
   ]
  },
  {
   "cell_type": "code",
   "execution_count": 9,
   "id": "2ac7a6c1",
   "metadata": {},
   "outputs": [],
   "source": [
    "with open(f\"data/{target}/stages_params.txt\", \"w\") as f:\n",
    "    f.write(f\"out = {out}\\nrsmp = {rsmp}\\nscl = {scl}\\ndim = {dim}\\ntun = {tun}\")"
   ]
  }
 ],
 "metadata": {
  "kernelspec": {
   "display_name": "Python 3",
   "language": "python",
   "name": "python3"
  },
  "language_info": {
   "codemirror_mode": {
    "name": "ipython",
    "version": 3
   },
   "file_extension": ".py",
   "mimetype": "text/x-python",
   "name": "python",
   "nbconvert_exporter": "python",
   "pygments_lexer": "ipython3",
   "version": "3.6.13"
  }
 },
 "nbformat": 4,
 "nbformat_minor": 5
}
