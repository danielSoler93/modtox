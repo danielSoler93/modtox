{
 "cells": [
  {
   "cell_type": "markdown",
   "metadata": {},
   "source": [
    "# Retrieve molecules by target (UniProt accession code)"
   ]
  },
  {
   "cell_type": "markdown",
   "metadata": {},
   "source": [
    "This tutorial gives a deeper understanding of the pipeline for creating a molecule collection with the same \n",
    "target. "
   ]
  },
  {
   "cell_type": "code",
   "execution_count": 3,
   "metadata": {},
   "outputs": [],
   "source": [
    "from modtox.modtox.Molecules.target_col import CollectionFromTarget, RetrievalSummary\n",
    "from modtox.modtox.utils.enums import Database, Features, StandardTypes"
   ]
  },
  {
   "cell_type": "markdown",
   "metadata": {},
   "source": [
    "In this example we use *Candida albicans* Chitin synthase 1 (P23316) because it has targets among the three\n",
    "databases. After creating the object, we fetch to the databases.  \n",
    ">Note: fetching PubChem takes much more time than the other two.* "
   ]
  },
  {
   "cell_type": "code",
   "execution_count": null,
   "metadata": {},
   "outputs": [],
   "source": [
    "c = CollectionFromTarget(\"P00740\")  # 5tnt\n",
    "dbs = [Database.BindingDB, Database.ChEMBL, Database.PubChem]\n",
    "c.fetch(dbs)"
   ]
  },
  {
   "cell_type": "markdown",
   "metadata": {},
   "source": [
    "After fetching, three variables have been created:\n",
    "1. Activities: list of `modtox.Activities` objects\n",
    "2. IDs: Dict as {database -> {inchi: id}}\n",
    "3. PubChem Activity: Dict as {inchi: pubchem_tag}"
   ]
  },
  {
   "cell_type": "code",
   "execution_count": null,
   "metadata": {},
   "outputs": [],
   "source": [
    "c.activities"
   ]
  },
  {
   "cell_type": "markdown",
   "metadata": {},
   "source": [
    "Also, we can take a look at one activity. Each activity stores:\n",
    "   - A standard\n",
    "   - InChI of the molecule\n",
    "   - Database where it has been retrieved\n",
    "   - Target"
   ]
  },
  {
   "cell_type": "code",
   "execution_count": null,
   "metadata": {},
   "outputs": [],
   "source": [
    "activity = c.activities[0]\n",
    "print(\"Activity standard: \", activity.standard)\n",
    "print(\"Activity retrieved from: \", activity.database.name)\n",
    "print(f\"Molecule InChI: {activity.inchi[:20]}[...]{activity.inchi[-20:]}\")\n",
    "print(\"Molecule target: \", activity.target)"
   ]
  },
  {
   "cell_type": "markdown",
   "metadata": {},
   "source": [
    "And we can also access the standard information:"
   ]
  },
  {
   "cell_type": "code",
   "execution_count": null,
   "metadata": {},
   "outputs": [],
   "source": [
    "print(\"Standard type: \", activity.standard.std_type.name)  # std_type is an instance of modtox.StandardTypes(Enum)\n",
    "print(\"Standard relation: \", activity.standard.std_rel)\n",
    "print(\"Standard value: \", activity.standard.std_val)\n",
    "print(\"Standard unit: \", activity.standard.std_unit)"
   ]
  },
  {
   "cell_type": "markdown",
   "metadata": {},
   "source": [
    "The retrieved IDs are in a Python dictionary as: {database -> {inchi: id}}. It is very likely that we have retrieved the same molecule in two databases:"
   ]
  },
  {
   "cell_type": "code",
   "execution_count": null,
   "metadata": {},
   "outputs": [],
   "source": [
    "inchi = 'InChI=1S/C18H20N2O/c1-18(2,3)12-5-4-6-13-19-15-8-7-9-16-14(15)10-11-17(21)20-16/h4,6-11,19H,13H2,1-3H3,(H,20,21)/b6-4+'\n",
    "print(\"BDBM: \", c.ids[Database.BindingDB][inchi])\n",
    "print(\"ChEMBL ID: \", c.ids[Database.ChEMBL][inchi])"
   ]
  },
  {
   "cell_type": "markdown",
   "metadata": {},
   "source": [
    "We can unify the ids in a `modtox.IDs` object. For that, we will first need to store all the InChIs, without duplicates."
   ]
  },
  {
   "cell_type": "code",
   "execution_count": null,
   "metadata": {},
   "outputs": [],
   "source": [
    "c.get_unique_inchis()\n",
    "for i, inchi in enumerate(c.unique_inchis):\n",
    "    print(f\"{i}: {inchi[:20]}[...]{inchi[-20:]}\")"
   ]
  },
  {
   "cell_type": "code",
   "execution_count": null,
   "metadata": {},
   "outputs": [],
   "source": [
    "c._unify_ids()\n",
    "for inchi, id in c.unified_ids.items():\n",
    "    inchi_ab = f\"{inchi[0:20]}[...]{inchi[-20:]}\"\n",
    "    print(inchi_ab, id)"
   ]
  },
  {
   "cell_type": "markdown",
   "metadata": {},
   "source": [
    "So, the retrieved activities and molecules are:"
   ]
  },
  {
   "cell_type": "code",
   "execution_count": null,
   "metadata": {
    "scrolled": true
   },
   "outputs": [],
   "source": [
    "print(\"Retrieved activities: \", len(c.activities))\n",
    "print(\"Retrieved molecules: \", len(c.unique_inchis))"
   ]
  },
  {
   "cell_type": "markdown",
   "metadata": {},
   "source": [
    "We can take a look at the plotted summaries (saved as `.png`) and the activities table (saved as `.csv`)."
   ]
  },
  {
   "cell_type": "code",
   "execution_count": null,
   "metadata": {},
   "outputs": [],
   "source": [
    "import pickle5 as p\n",
    "with open(\"P00740.pickle\", \"wb\") as f:\n",
    "    p.dump(c, f)"
   ]
  },
  {
   "cell_type": "code",
   "execution_count": 1,
   "metadata": {},
   "outputs": [
    {
     "data": {
      "image/png": "[encoded data removed]",
      "text/plain": [
       "<Figure size 432x288 with 2 Axes>"
      ]
     },
     "metadata": {},
     "output_type": "display_data"
    }
   ],
   "source": [
    "import pickle5 as p\n",
    "with open(\"P00740.pickle\", \"rb\") as f:\n",
    "    c = p.load(f)\n",
    "c.summarize_retrieval()"
   ]
  },
  {
   "cell_type": "code",
   "execution_count": null,
   "metadata": {
    "scrolled": true
   },
   "outputs": [],
   "source": []
  },
  {
   "cell_type": "code",
   "execution_count": 4,
   "metadata": {},
   "outputs": [
    {
     "data": {
      "text/html": [
       "<div>\n",
       "<style scoped>\n",
       "    .dataframe tbody tr th:only-of-type {\n",
       "        vertical-align: middle;\n",
       "    }\n",
       "\n",
       "    .dataframe tbody tr th {\n",
       "        vertical-align: top;\n",
       "    }\n",
       "\n",
       "    .dataframe thead th {\n",
       "        text-align: right;\n",
       "    }\n",
       "</style>\n",
       "<table border=\"1\" class=\"dataframe\">\n",
       "  <thead>\n",
       "    <tr style=\"text-align: right;\">\n",
       "      <th></th>\n",
       "      <th>Activities</th>\n",
       "      <th>Molecules</th>\n",
       "      <th>Avg stdev</th>\n",
       "      <th>Units</th>\n",
       "      <th>Activities/molecule</th>\n",
       "    </tr>\n",
       "  </thead>\n",
       "  <tbody>\n",
       "    <tr>\n",
       "      <th>Ki</th>\n",
       "      <td>1749</td>\n",
       "      <td>669</td>\n",
       "      <td>54.492</td>\n",
       "      <td>nM</td>\n",
       "      <td>2.61435</td>\n",
       "    </tr>\n",
       "    <tr>\n",
       "      <th>IC50</th>\n",
       "      <td>974</td>\n",
       "      <td>567</td>\n",
       "      <td>2.37324</td>\n",
       "      <td>nM</td>\n",
       "      <td>1.71781</td>\n",
       "    </tr>\n",
       "    <tr>\n",
       "      <th>Kobs_1</th>\n",
       "      <td>12</td>\n",
       "      <td>12</td>\n",
       "      <td>0</td>\n",
       "      <td>M-1 s-1</td>\n",
       "      <td>1</td>\n",
       "    </tr>\n",
       "    <tr>\n",
       "      <th>Inhibition</th>\n",
       "      <td>19</td>\n",
       "      <td>19</td>\n",
       "      <td>0</td>\n",
       "      <td>%</td>\n",
       "      <td>1</td>\n",
       "    </tr>\n",
       "    <tr>\n",
       "      <th>Activity</th>\n",
       "      <td>12</td>\n",
       "      <td>11</td>\n",
       "      <td>1926.54</td>\n",
       "      <td>%</td>\n",
       "      <td>1.09091</td>\n",
       "    </tr>\n",
       "    <tr>\n",
       "      <th>Papp</th>\n",
       "      <td>1</td>\n",
       "      <td>1</td>\n",
       "      <td>0</td>\n",
       "      <td>cm/s</td>\n",
       "      <td>1</td>\n",
       "    </tr>\n",
       "    <tr>\n",
       "      <th>Efficacy</th>\n",
       "      <td>1</td>\n",
       "      <td>1</td>\n",
       "      <td>0</td>\n",
       "      <td>%</td>\n",
       "      <td>1</td>\n",
       "    </tr>\n",
       "  </tbody>\n",
       "</table>\n",
       "</div>"
      ],
      "text/plain": [
       "           Activities Molecules Avg stdev    Units Activities/molecule\n",
       "Ki               1749       669    54.492       nM             2.61435\n",
       "IC50              974       567   2.37324       nM             1.71781\n",
       "Kobs_1             12        12         0  M-1 s-1                   1\n",
       "Inhibition         19        19         0        %                   1\n",
       "Activity           12        11   1926.54        %             1.09091\n",
       "Papp                1         1         0     cm/s                   1\n",
       "Efficacy            1         1         0        %                   1"
      ]
     },
     "execution_count": 4,
     "metadata": {},
     "output_type": "execute_result"
    }
   ],
   "source": [
    "rs = RetrievalSummary(c)\n",
    "act_tab = rs._activities_table()\n",
    "#act_tab.to_csv(\"P00740_act_table.csv\")\n",
    "act_tab"
   ]
  },
  {
   "cell_type": "markdown",
   "metadata": {},
   "source": [
    "We can have an idea of the variability of the data. For example, for Ki there are 2.6 reported activites per molecules with reported Ki. However, the average standard deviation of the reported Kis for each of\n",
    "the 9 molecules is 0, meaning all the reported activities match. "
   ]
  },
  {
   "cell_type": "markdown",
   "metadata": {},
   "source": [
    "Now we will create the `modtox.Molecule` instances. That will allow us to access more functionalities such as saving the data, Tanimoto clustering...  Each molecule stores:\n",
    "- The molecule __name__ (defined as target + int)\n",
    "- Molecule __IDs__ to map to databases.\n",
    "- __Activities__ which can be accessed as shown before.\n",
    "- `rdkit.Mol` object"
   ]
  },
  {
   "cell_type": "code",
   "execution_count": null,
   "metadata": {
    "scrolled": true
   },
   "outputs": [],
   "source": [
    "c.create_molecules()"
   ]
  },
  {
   "cell_type": "markdown",
   "metadata": {},
   "source": [
    "Finally, we can classify the compounds between active and inactive setting our threshold.   For each criterion, molecules can be classified as: \n",
    "- __Active:__ all reported activities fall below the threshold. \n",
    "- __Inactive:__ all reported activities fall above the threshold.\n",
    "- __No data:__ no reported activities (for this standard type).\n",
    "- __Contradictory data:__ reported activities fall both above and below the threshold.  \n",
    "\n",
    "In addition, we can also use the PubChem criteria: `c.pubchem_activity` {inchi -> ['Active', ...]}, defined during `c.fetch()`, for which:\n",
    "- __Active:__ all reported activities are 'Active'. \n",
    "- __Inactive:__ all reported activities are 'Inactive'.\n",
    "- __No data:__ no reported activities.\n",
    "- __Contradictory data:__ reported activities are both 'Active' and 'Inactive' or there are 'Unspecified' tags."
   ]
  },
  {
   "cell_type": "code",
   "execution_count": null,
   "metadata": {},
   "outputs": [],
   "source": [
    "criteria = {\n",
    "    StandardTypes.Ki: 100,\n",
    "    \"pubchem\": 0, # Value provided is ignored. \n",
    "    StandardTypes.IC50: 100,    \n",
    "}\n",
    "c.assess_activity(criteria)"
   ]
  },
  {
   "cell_type": "markdown",
   "metadata": {},
   "source": [
    "And we can take a look at each molecule activity tags for each criteria:"
   ]
  },
  {
   "cell_type": "code",
   "execution_count": null,
   "metadata": {},
   "outputs": [],
   "source": [
    "mol = c.molecules[0]\n",
    "print(\"Activities:\")\n",
    "for activity in mol.activities:\n",
    "    print(f\"\\t{activity}\")\n",
    "pubchem_activities = c.pubchem_activity[mol.inchi]\n",
    "for activity in pubchem_activities:\n",
    "    print(f\"\\tPubChem: {activity}\")\n",
    "print(f\"Activity tags: {mol.activity_tags}\")"
   ]
  },
  {
   "cell_type": "markdown",
   "metadata": {},
   "source": [
    "To have a more general idea, we can take a look at our activity assessment:"
   ]
  },
  {
   "cell_type": "code",
   "execution_count": null,
   "metadata": {
    "scrolled": false
   },
   "outputs": [],
   "source": [
    "assess = rs._activity_assessment_table()\n",
    "assess.to_csv(\"P00740_act_assess.csv\")\n",
    "assess"
   ]
  },
  {
   "cell_type": "markdown",
   "metadata": {},
   "source": [
    "We can save the `modtox.Collection` object as it is and recover it later using Pickle. By default, saved in current working directory with the name `{target}.pickle`."
   ]
  },
  {
   "cell_type": "code",
   "execution_count": null,
   "metadata": {},
   "outputs": [],
   "source": [
    "c.to_pickle()"
   ]
  },
  {
   "cell_type": "markdown",
   "metadata": {},
   "source": [
    "To load the collection, simply:"
   ]
  },
  {
   "cell_type": "code",
   "execution_count": null,
   "metadata": {},
   "outputs": [],
   "source": [
    "import pickle5\n",
    "with open(\"P23316.pickle\", \"rb\") as f:\n",
    "    c = pickle5.load(f)\n",
    "c.target"
   ]
  },
  {
   "cell_type": "markdown",
   "metadata": {},
   "source": [
    "The collection can also be exported to SDF. It will add the properties to each molecule `rdkit.Mol` object so it can be read later. \n",
    "> *Note:* the activity stored in the `.sdf` file corresponds to the first criterion supplied. In this case, Ki, 100 nM."
   ]
  },
  {
   "cell_type": "code",
   "execution_count": null,
   "metadata": {},
   "outputs": [],
   "source": [
    "from rdkit import RDLogger\n",
    "RDLogger.DisableLog('rdApp.*')  # Disable warnings (AddHs)\n",
    "c.to_sdf(output=None)"
   ]
  },
  {
   "cell_type": "code",
   "execution_count": null,
   "metadata": {},
   "outputs": [],
   "source": [
    "# Displaying a molecule sdf file\n",
    "with open(\"P23316.sdf\", \"r\") as f:\n",
    "    lines = f.readlines()\n",
    "for line in lines[1590:1689]:\n",
    "    print(line.strip())"
   ]
  }
 ],
 "metadata": {
  "interpreter": {
   "hash": "e895f80d2007289c033143a4732a9d8c4fbe58028aa77f4615404a60885810f3"
  },
  "kernelspec": {
   "display_name": "Python 3",
   "language": "python",
   "name": "python3"
  },
  "language_info": {
   "codemirror_mode": {
    "name": "ipython",
    "version": 3
   },
   "file_extension": ".py",
   "mimetype": "text/x-python",
   "name": "python",
   "nbconvert_exporter": "python",
   "pygments_lexer": "ipython3",
   "version": "3.6.13"
  }
 },
 "nbformat": 4,
 "nbformat_minor": 2
}
